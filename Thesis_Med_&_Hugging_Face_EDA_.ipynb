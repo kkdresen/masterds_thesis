{
  "nbformat": 4,
  "nbformat_minor": 0,
  "metadata": {
    "colab": {
      "provenance": [],
      "mount_file_id": "16uEL9UFCQwXA-4hTKa3T8HApFFF0o6cY",
      "authorship_tag": "ABX9TyPkAC/Rub5CQE8vAa5xZIAH",
      "include_colab_link": true
    },
    "kernelspec": {
      "name": "python3",
      "display_name": "Python 3"
    },
    "language_info": {
      "name": "python"
    }
  },
  "cells": [
    {
      "cell_type": "markdown",
      "metadata": {
        "id": "view-in-github",
        "colab_type": "text"
      },
      "source": [
        "<a href=\"https://colab.research.google.com/github/kkdresen/masterds_thesis/blob/main/Thesis_Med_%26_Hugging_Face_EDA_.ipynb\" target=\"_parent\"><img src=\"https://colab.research.google.com/assets/colab-badge.svg\" alt=\"Open In Colab\"/></a>"
      ]
    },
    {
      "cell_type": "markdown",
      "source": [
        "# Master Thesis\n",
        "\n",
        "Datasets:\n",
        "- medical dataset: https://www.kaggle.com/datasets/tboyle10/medicaltranscriptions/data\n",
        "- pii masking hugging face dataset: https://huggingface.co/datasets/ai4privacy/pii-masking-65k/viewer/default/train?row=2\n",
        "\n",
        "Github:\n",
        "- https://github.com/kkdresen/masterds_thesis"
      ],
      "metadata": {
        "id": "ij_H7IOHua95"
      }
    },
    {
      "cell_type": "code",
      "source": [
        "!pip install lime"
      ],
      "metadata": {
        "colab": {
          "base_uri": "https://localhost:8080/"
        },
        "id": "fRQnrCwSFGnU",
        "outputId": "e7f3b7da-788e-46be-e57d-8ea30c465031"
      },
      "execution_count": null,
      "outputs": [
        {
          "output_type": "stream",
          "name": "stdout",
          "text": [
            "Collecting lime\n",
            "  Downloading lime-0.2.0.1.tar.gz (275 kB)\n",
            "\u001b[?25l     \u001b[90m━━━━━━━━━━━━━━━━━━━━━━━━━━━━━━━━━━━━━━━━\u001b[0m \u001b[32m0.0/275.7 kB\u001b[0m \u001b[31m?\u001b[0m eta \u001b[36m-:--:--\u001b[0m\r\u001b[2K     \u001b[91m━━━━━━━━━━━━━\u001b[0m\u001b[90m╺\u001b[0m\u001b[90m━━━━━━━━━━━━━━━━━━━━━━━━━━\u001b[0m \u001b[32m92.2/275.7 kB\u001b[0m \u001b[31m2.6 MB/s\u001b[0m eta \u001b[36m0:00:01\u001b[0m\r\u001b[2K     \u001b[90m━━━━━━━━━━━━━━━━━━━━━━━━━━━━━━━━━━━━━━━━\u001b[0m \u001b[32m275.7/275.7 kB\u001b[0m \u001b[31m4.2 MB/s\u001b[0m eta \u001b[36m0:00:00\u001b[0m\n",
            "\u001b[?25h  Preparing metadata (setup.py) ... \u001b[?25l\u001b[?25hdone\n",
            "Requirement already satisfied: matplotlib in /usr/local/lib/python3.10/dist-packages (from lime) (3.7.1)\n",
            "Requirement already satisfied: numpy in /usr/local/lib/python3.10/dist-packages (from lime) (1.25.2)\n",
            "Requirement already satisfied: scipy in /usr/local/lib/python3.10/dist-packages (from lime) (1.11.4)\n",
            "Requirement already satisfied: tqdm in /usr/local/lib/python3.10/dist-packages (from lime) (4.66.2)\n",
            "Requirement already satisfied: scikit-learn>=0.18 in /usr/local/lib/python3.10/dist-packages (from lime) (1.2.2)\n",
            "Requirement already satisfied: scikit-image>=0.12 in /usr/local/lib/python3.10/dist-packages (from lime) (0.19.3)\n",
            "Requirement already satisfied: networkx>=2.2 in /usr/local/lib/python3.10/dist-packages (from scikit-image>=0.12->lime) (3.2.1)\n",
            "Requirement already satisfied: pillow!=7.1.0,!=7.1.1,!=8.3.0,>=6.1.0 in /usr/local/lib/python3.10/dist-packages (from scikit-image>=0.12->lime) (9.4.0)\n",
            "Requirement already satisfied: imageio>=2.4.1 in /usr/local/lib/python3.10/dist-packages (from scikit-image>=0.12->lime) (2.31.6)\n",
            "Requirement already satisfied: tifffile>=2019.7.26 in /usr/local/lib/python3.10/dist-packages (from scikit-image>=0.12->lime) (2024.2.12)\n",
            "Requirement already satisfied: PyWavelets>=1.1.1 in /usr/local/lib/python3.10/dist-packages (from scikit-image>=0.12->lime) (1.5.0)\n",
            "Requirement already satisfied: packaging>=20.0 in /usr/local/lib/python3.10/dist-packages (from scikit-image>=0.12->lime) (24.0)\n",
            "Requirement already satisfied: joblib>=1.1.1 in /usr/local/lib/python3.10/dist-packages (from scikit-learn>=0.18->lime) (1.3.2)\n",
            "Requirement already satisfied: threadpoolctl>=2.0.0 in /usr/local/lib/python3.10/dist-packages (from scikit-learn>=0.18->lime) (3.3.0)\n",
            "Requirement already satisfied: contourpy>=1.0.1 in /usr/local/lib/python3.10/dist-packages (from matplotlib->lime) (1.2.0)\n",
            "Requirement already satisfied: cycler>=0.10 in /usr/local/lib/python3.10/dist-packages (from matplotlib->lime) (0.12.1)\n",
            "Requirement already satisfied: fonttools>=4.22.0 in /usr/local/lib/python3.10/dist-packages (from matplotlib->lime) (4.49.0)\n",
            "Requirement already satisfied: kiwisolver>=1.0.1 in /usr/local/lib/python3.10/dist-packages (from matplotlib->lime) (1.4.5)\n",
            "Requirement already satisfied: pyparsing>=2.3.1 in /usr/local/lib/python3.10/dist-packages (from matplotlib->lime) (3.1.2)\n",
            "Requirement already satisfied: python-dateutil>=2.7 in /usr/local/lib/python3.10/dist-packages (from matplotlib->lime) (2.8.2)\n",
            "Requirement already satisfied: six>=1.5 in /usr/local/lib/python3.10/dist-packages (from python-dateutil>=2.7->matplotlib->lime) (1.16.0)\n",
            "Building wheels for collected packages: lime\n",
            "  Building wheel for lime (setup.py) ... \u001b[?25l\u001b[?25hdone\n",
            "  Created wheel for lime: filename=lime-0.2.0.1-py3-none-any.whl size=283835 sha256=9ecab48eba10b7c80bde64c89ef2faf2370fd8b348c8247e2a28d111bd23a332\n",
            "  Stored in directory: /root/.cache/pip/wheels/fd/a2/af/9ac0a1a85a27f314a06b39e1f492bee1547d52549a4606ed89\n",
            "Successfully built lime\n",
            "Installing collected packages: lime\n",
            "Successfully installed lime-0.2.0.1\n"
          ]
        }
      ]
    },
    {
      "cell_type": "markdown",
      "source": [
        "### Packages"
      ],
      "metadata": {
        "id": "nHAXS_jFbDrH"
      }
    },
    {
      "cell_type": "code",
      "execution_count": null,
      "metadata": {
        "id": "NcCPibavEizo"
      },
      "outputs": [],
      "source": [
        "# Basic libraries\n",
        "\n",
        "import pandas as pd\n",
        "import numpy as np\n",
        "import re\n",
        "import matplotlib.pyplot as plt\n",
        "import nltk\n",
        "import random\n",
        "import itertools\n",
        "from collections import defaultdict\n",
        "\n",
        "# Preprocessing\n",
        "\n",
        "from sklearn.preprocessing import LabelEncoder\n",
        "from sklearn.model_selection import train_test_split, StratifiedKFold\n",
        "from sklearn.feature_extraction.text import CountVectorizer, TfidfVectorizer\n",
        "from itertools import combinations\n",
        "from nltk.tokenize import RegexpTokenizer\n",
        "from nltk.corpus import stopwords\n",
        "from nltk.stem.porter import PorterStemmer\n",
        "import gensim\n",
        "from keras.preprocessing.text import Tokenizer\n",
        "from keras.preprocessing.sequence import pad_sequences\n",
        "from keras.utils import to_categorical\n",
        "from imblearn.under_sampling import NearMiss, RandomUnderSampler\n",
        "from imblearn.over_sampling import SMOTE, ADASYN\n",
        "\n"
      ]
    },
    {
      "cell_type": "code",
      "source": [
        "from nltk.tokenize import word_tokenize\n",
        "from nltk.tokenize import sent_tokenize\n",
        "from nltk.stem import WordNetLemmatizer"
      ],
      "metadata": {
        "id": "5RrjDa8dNC_-"
      },
      "execution_count": null,
      "outputs": []
    },
    {
      "cell_type": "code",
      "source": [
        "# Models\n",
        "\n",
        "from sklearn.naive_bayes import MultinomialNB\n",
        "from sklearn.linear_model import LogisticRegressionCV\n",
        "import lightgbm as lgb\n",
        "\n",
        "# Evaluation\n",
        "\n",
        "from sklearn.metrics import f1_score, accuracy_score, precision_score, recall_score, confusion_matrix, make_scorer\n",
        "from lime import lime_text\n",
        "from sklearn.pipeline import make_pipeline\n",
        "from lime.lime_text import LimeTextExplainer\n",
        "\n",
        "\n",
        "import warnings\n",
        "warnings.filterwarnings(\"ignore\")"
      ],
      "metadata": {
        "id": "7Viq9y79FOWD"
      },
      "execution_count": null,
      "outputs": []
    },
    {
      "cell_type": "code",
      "source": [
        "%matplotlib inline"
      ],
      "metadata": {
        "id": "2T9o3JJ1Ejp5"
      },
      "execution_count": null,
      "outputs": []
    },
    {
      "cell_type": "markdown",
      "source": [
        "### Load in Medical Data\n",
        "* 4999 rows and 6 columns"
      ],
      "metadata": {
        "id": "pOGiZB-nbIZc"
      }
    },
    {
      "cell_type": "code",
      "source": [
        "data = pd.read_csv('/content/drive/MyDrive/00 UvA MASTER DATA SCIENCE /00. Thesis /Thesis Data/mtsamples.csv')\n",
        "print(data.shape)\n",
        "data.head()"
      ],
      "metadata": {
        "colab": {
          "base_uri": "https://localhost:8080/",
          "height": 414
        },
        "id": "CJot4_AWFWcw",
        "outputId": "7b678c4f-a4dd-4bea-c382-11bee83f1584"
      },
      "execution_count": null,
      "outputs": [
        {
          "output_type": "stream",
          "name": "stdout",
          "text": [
            "(4999, 6)\n"
          ]
        },
        {
          "output_type": "execute_result",
          "data": {
            "text/plain": [
              "   Unnamed: 0                                        description  \\\n",
              "0           0   A 23-year-old white female presents with comp...   \n",
              "1           1           Consult for laparoscopic gastric bypass.   \n",
              "2           2           Consult for laparoscopic gastric bypass.   \n",
              "3           3                             2-D M-Mode. Doppler.     \n",
              "4           4                                 2-D Echocardiogram   \n",
              "\n",
              "             medical_specialty                                sample_name  \\\n",
              "0         Allergy / Immunology                         Allergic Rhinitis    \n",
              "1                   Bariatrics   Laparoscopic Gastric Bypass Consult - 2    \n",
              "2                   Bariatrics   Laparoscopic Gastric Bypass Consult - 1    \n",
              "3   Cardiovascular / Pulmonary                    2-D Echocardiogram - 1    \n",
              "4   Cardiovascular / Pulmonary                    2-D Echocardiogram - 2    \n",
              "\n",
              "                                       transcription  \\\n",
              "0  SUBJECTIVE:,  This 23-year-old white female pr...   \n",
              "1  PAST MEDICAL HISTORY:, He has difficulty climb...   \n",
              "2  HISTORY OF PRESENT ILLNESS: , I have seen ABC ...   \n",
              "3  2-D M-MODE: , ,1.  Left atrial enlargement wit...   \n",
              "4  1.  The left ventricular cavity size and wall ...   \n",
              "\n",
              "                                            keywords  \n",
              "0  allergy / immunology, allergic rhinitis, aller...  \n",
              "1  bariatrics, laparoscopic gastric bypass, weigh...  \n",
              "2  bariatrics, laparoscopic gastric bypass, heart...  \n",
              "3  cardiovascular / pulmonary, 2-d m-mode, dopple...  \n",
              "4  cardiovascular / pulmonary, 2-d, doppler, echo...  "
            ],
            "text/html": [
              "\n",
              "  <div id=\"df-d1dfac25-1e6a-443e-a52b-690459c97349\" class=\"colab-df-container\">\n",
              "    <div>\n",
              "<style scoped>\n",
              "    .dataframe tbody tr th:only-of-type {\n",
              "        vertical-align: middle;\n",
              "    }\n",
              "\n",
              "    .dataframe tbody tr th {\n",
              "        vertical-align: top;\n",
              "    }\n",
              "\n",
              "    .dataframe thead th {\n",
              "        text-align: right;\n",
              "    }\n",
              "</style>\n",
              "<table border=\"1\" class=\"dataframe\">\n",
              "  <thead>\n",
              "    <tr style=\"text-align: right;\">\n",
              "      <th></th>\n",
              "      <th>Unnamed: 0</th>\n",
              "      <th>description</th>\n",
              "      <th>medical_specialty</th>\n",
              "      <th>sample_name</th>\n",
              "      <th>transcription</th>\n",
              "      <th>keywords</th>\n",
              "    </tr>\n",
              "  </thead>\n",
              "  <tbody>\n",
              "    <tr>\n",
              "      <th>0</th>\n",
              "      <td>0</td>\n",
              "      <td>A 23-year-old white female presents with comp...</td>\n",
              "      <td>Allergy / Immunology</td>\n",
              "      <td>Allergic Rhinitis</td>\n",
              "      <td>SUBJECTIVE:,  This 23-year-old white female pr...</td>\n",
              "      <td>allergy / immunology, allergic rhinitis, aller...</td>\n",
              "    </tr>\n",
              "    <tr>\n",
              "      <th>1</th>\n",
              "      <td>1</td>\n",
              "      <td>Consult for laparoscopic gastric bypass.</td>\n",
              "      <td>Bariatrics</td>\n",
              "      <td>Laparoscopic Gastric Bypass Consult - 2</td>\n",
              "      <td>PAST MEDICAL HISTORY:, He has difficulty climb...</td>\n",
              "      <td>bariatrics, laparoscopic gastric bypass, weigh...</td>\n",
              "    </tr>\n",
              "    <tr>\n",
              "      <th>2</th>\n",
              "      <td>2</td>\n",
              "      <td>Consult for laparoscopic gastric bypass.</td>\n",
              "      <td>Bariatrics</td>\n",
              "      <td>Laparoscopic Gastric Bypass Consult - 1</td>\n",
              "      <td>HISTORY OF PRESENT ILLNESS: , I have seen ABC ...</td>\n",
              "      <td>bariatrics, laparoscopic gastric bypass, heart...</td>\n",
              "    </tr>\n",
              "    <tr>\n",
              "      <th>3</th>\n",
              "      <td>3</td>\n",
              "      <td>2-D M-Mode. Doppler.</td>\n",
              "      <td>Cardiovascular / Pulmonary</td>\n",
              "      <td>2-D Echocardiogram - 1</td>\n",
              "      <td>2-D M-MODE: , ,1.  Left atrial enlargement wit...</td>\n",
              "      <td>cardiovascular / pulmonary, 2-d m-mode, dopple...</td>\n",
              "    </tr>\n",
              "    <tr>\n",
              "      <th>4</th>\n",
              "      <td>4</td>\n",
              "      <td>2-D Echocardiogram</td>\n",
              "      <td>Cardiovascular / Pulmonary</td>\n",
              "      <td>2-D Echocardiogram - 2</td>\n",
              "      <td>1.  The left ventricular cavity size and wall ...</td>\n",
              "      <td>cardiovascular / pulmonary, 2-d, doppler, echo...</td>\n",
              "    </tr>\n",
              "  </tbody>\n",
              "</table>\n",
              "</div>\n",
              "    <div class=\"colab-df-buttons\">\n",
              "\n",
              "  <div class=\"colab-df-container\">\n",
              "    <button class=\"colab-df-convert\" onclick=\"convertToInteractive('df-d1dfac25-1e6a-443e-a52b-690459c97349')\"\n",
              "            title=\"Convert this dataframe to an interactive table.\"\n",
              "            style=\"display:none;\">\n",
              "\n",
              "  <svg xmlns=\"http://www.w3.org/2000/svg\" height=\"24px\" viewBox=\"0 -960 960 960\">\n",
              "    <path d=\"M120-120v-720h720v720H120Zm60-500h600v-160H180v160Zm220 220h160v-160H400v160Zm0 220h160v-160H400v160ZM180-400h160v-160H180v160Zm440 0h160v-160H620v160ZM180-180h160v-160H180v160Zm440 0h160v-160H620v160Z\"/>\n",
              "  </svg>\n",
              "    </button>\n",
              "\n",
              "  <style>\n",
              "    .colab-df-container {\n",
              "      display:flex;\n",
              "      gap: 12px;\n",
              "    }\n",
              "\n",
              "    .colab-df-convert {\n",
              "      background-color: #E8F0FE;\n",
              "      border: none;\n",
              "      border-radius: 50%;\n",
              "      cursor: pointer;\n",
              "      display: none;\n",
              "      fill: #1967D2;\n",
              "      height: 32px;\n",
              "      padding: 0 0 0 0;\n",
              "      width: 32px;\n",
              "    }\n",
              "\n",
              "    .colab-df-convert:hover {\n",
              "      background-color: #E2EBFA;\n",
              "      box-shadow: 0px 1px 2px rgba(60, 64, 67, 0.3), 0px 1px 3px 1px rgba(60, 64, 67, 0.15);\n",
              "      fill: #174EA6;\n",
              "    }\n",
              "\n",
              "    .colab-df-buttons div {\n",
              "      margin-bottom: 4px;\n",
              "    }\n",
              "\n",
              "    [theme=dark] .colab-df-convert {\n",
              "      background-color: #3B4455;\n",
              "      fill: #D2E3FC;\n",
              "    }\n",
              "\n",
              "    [theme=dark] .colab-df-convert:hover {\n",
              "      background-color: #434B5C;\n",
              "      box-shadow: 0px 1px 3px 1px rgba(0, 0, 0, 0.15);\n",
              "      filter: drop-shadow(0px 1px 2px rgba(0, 0, 0, 0.3));\n",
              "      fill: #FFFFFF;\n",
              "    }\n",
              "  </style>\n",
              "\n",
              "    <script>\n",
              "      const buttonEl =\n",
              "        document.querySelector('#df-d1dfac25-1e6a-443e-a52b-690459c97349 button.colab-df-convert');\n",
              "      buttonEl.style.display =\n",
              "        google.colab.kernel.accessAllowed ? 'block' : 'none';\n",
              "\n",
              "      async function convertToInteractive(key) {\n",
              "        const element = document.querySelector('#df-d1dfac25-1e6a-443e-a52b-690459c97349');\n",
              "        const dataTable =\n",
              "          await google.colab.kernel.invokeFunction('convertToInteractive',\n",
              "                                                    [key], {});\n",
              "        if (!dataTable) return;\n",
              "\n",
              "        const docLinkHtml = 'Like what you see? Visit the ' +\n",
              "          '<a target=\"_blank\" href=https://colab.research.google.com/notebooks/data_table.ipynb>data table notebook</a>'\n",
              "          + ' to learn more about interactive tables.';\n",
              "        element.innerHTML = '';\n",
              "        dataTable['output_type'] = 'display_data';\n",
              "        await google.colab.output.renderOutput(dataTable, element);\n",
              "        const docLink = document.createElement('div');\n",
              "        docLink.innerHTML = docLinkHtml;\n",
              "        element.appendChild(docLink);\n",
              "      }\n",
              "    </script>\n",
              "  </div>\n",
              "\n",
              "\n",
              "<div id=\"df-14b65755-f3ae-4c3a-99b1-d5c7b97ff1b9\">\n",
              "  <button class=\"colab-df-quickchart\" onclick=\"quickchart('df-14b65755-f3ae-4c3a-99b1-d5c7b97ff1b9')\"\n",
              "            title=\"Suggest charts\"\n",
              "            style=\"display:none;\">\n",
              "\n",
              "<svg xmlns=\"http://www.w3.org/2000/svg\" height=\"24px\"viewBox=\"0 0 24 24\"\n",
              "     width=\"24px\">\n",
              "    <g>\n",
              "        <path d=\"M19 3H5c-1.1 0-2 .9-2 2v14c0 1.1.9 2 2 2h14c1.1 0 2-.9 2-2V5c0-1.1-.9-2-2-2zM9 17H7v-7h2v7zm4 0h-2V7h2v10zm4 0h-2v-4h2v4z\"/>\n",
              "    </g>\n",
              "</svg>\n",
              "  </button>\n",
              "\n",
              "<style>\n",
              "  .colab-df-quickchart {\n",
              "      --bg-color: #E8F0FE;\n",
              "      --fill-color: #1967D2;\n",
              "      --hover-bg-color: #E2EBFA;\n",
              "      --hover-fill-color: #174EA6;\n",
              "      --disabled-fill-color: #AAA;\n",
              "      --disabled-bg-color: #DDD;\n",
              "  }\n",
              "\n",
              "  [theme=dark] .colab-df-quickchart {\n",
              "      --bg-color: #3B4455;\n",
              "      --fill-color: #D2E3FC;\n",
              "      --hover-bg-color: #434B5C;\n",
              "      --hover-fill-color: #FFFFFF;\n",
              "      --disabled-bg-color: #3B4455;\n",
              "      --disabled-fill-color: #666;\n",
              "  }\n",
              "\n",
              "  .colab-df-quickchart {\n",
              "    background-color: var(--bg-color);\n",
              "    border: none;\n",
              "    border-radius: 50%;\n",
              "    cursor: pointer;\n",
              "    display: none;\n",
              "    fill: var(--fill-color);\n",
              "    height: 32px;\n",
              "    padding: 0;\n",
              "    width: 32px;\n",
              "  }\n",
              "\n",
              "  .colab-df-quickchart:hover {\n",
              "    background-color: var(--hover-bg-color);\n",
              "    box-shadow: 0 1px 2px rgba(60, 64, 67, 0.3), 0 1px 3px 1px rgba(60, 64, 67, 0.15);\n",
              "    fill: var(--button-hover-fill-color);\n",
              "  }\n",
              "\n",
              "  .colab-df-quickchart-complete:disabled,\n",
              "  .colab-df-quickchart-complete:disabled:hover {\n",
              "    background-color: var(--disabled-bg-color);\n",
              "    fill: var(--disabled-fill-color);\n",
              "    box-shadow: none;\n",
              "  }\n",
              "\n",
              "  .colab-df-spinner {\n",
              "    border: 2px solid var(--fill-color);\n",
              "    border-color: transparent;\n",
              "    border-bottom-color: var(--fill-color);\n",
              "    animation:\n",
              "      spin 1s steps(1) infinite;\n",
              "  }\n",
              "\n",
              "  @keyframes spin {\n",
              "    0% {\n",
              "      border-color: transparent;\n",
              "      border-bottom-color: var(--fill-color);\n",
              "      border-left-color: var(--fill-color);\n",
              "    }\n",
              "    20% {\n",
              "      border-color: transparent;\n",
              "      border-left-color: var(--fill-color);\n",
              "      border-top-color: var(--fill-color);\n",
              "    }\n",
              "    30% {\n",
              "      border-color: transparent;\n",
              "      border-left-color: var(--fill-color);\n",
              "      border-top-color: var(--fill-color);\n",
              "      border-right-color: var(--fill-color);\n",
              "    }\n",
              "    40% {\n",
              "      border-color: transparent;\n",
              "      border-right-color: var(--fill-color);\n",
              "      border-top-color: var(--fill-color);\n",
              "    }\n",
              "    60% {\n",
              "      border-color: transparent;\n",
              "      border-right-color: var(--fill-color);\n",
              "    }\n",
              "    80% {\n",
              "      border-color: transparent;\n",
              "      border-right-color: var(--fill-color);\n",
              "      border-bottom-color: var(--fill-color);\n",
              "    }\n",
              "    90% {\n",
              "      border-color: transparent;\n",
              "      border-bottom-color: var(--fill-color);\n",
              "    }\n",
              "  }\n",
              "</style>\n",
              "\n",
              "  <script>\n",
              "    async function quickchart(key) {\n",
              "      const quickchartButtonEl =\n",
              "        document.querySelector('#' + key + ' button');\n",
              "      quickchartButtonEl.disabled = true;  // To prevent multiple clicks.\n",
              "      quickchartButtonEl.classList.add('colab-df-spinner');\n",
              "      try {\n",
              "        const charts = await google.colab.kernel.invokeFunction(\n",
              "            'suggestCharts', [key], {});\n",
              "      } catch (error) {\n",
              "        console.error('Error during call to suggestCharts:', error);\n",
              "      }\n",
              "      quickchartButtonEl.classList.remove('colab-df-spinner');\n",
              "      quickchartButtonEl.classList.add('colab-df-quickchart-complete');\n",
              "    }\n",
              "    (() => {\n",
              "      let quickchartButtonEl =\n",
              "        document.querySelector('#df-14b65755-f3ae-4c3a-99b1-d5c7b97ff1b9 button');\n",
              "      quickchartButtonEl.style.display =\n",
              "        google.colab.kernel.accessAllowed ? 'block' : 'none';\n",
              "    })();\n",
              "  </script>\n",
              "</div>\n",
              "    </div>\n",
              "  </div>\n"
            ],
            "application/vnd.google.colaboratory.intrinsic+json": {
              "type": "dataframe",
              "variable_name": "data",
              "summary": "{\n  \"name\": \"data\",\n  \"rows\": 4999,\n  \"fields\": [\n    {\n      \"column\": \"Unnamed: 0\",\n      \"properties\": {\n        \"dtype\": \"number\",\n        \"std\": 1443,\n        \"min\": 0,\n        \"max\": 4998,\n        \"num_unique_values\": 4999,\n        \"samples\": [\n          84,\n          2470,\n          2804\n        ],\n        \"semantic_type\": \"\",\n        \"description\": \"\"\n      }\n    },\n    {\n      \"column\": \"description\",\n      \"properties\": {\n        \"dtype\": \"category\",\n        \"num_unique_values\": 2348,\n        \"samples\": [\n          \" MRI left shoulder.\",\n          \" Left heart catheterization with left ventriculography and selective coronary angiography.  Percutaneous transluminal coronary angioplasty and stent placement of the right coronary artery.\",\n          \" Iron deficiency anemia.  She underwent a bone marrow biopsy which showed a normal cellular marrow with trilineage hematopoiesis.\"\n        ],\n        \"semantic_type\": \"\",\n        \"description\": \"\"\n      }\n    },\n    {\n      \"column\": \"medical_specialty\",\n      \"properties\": {\n        \"dtype\": \"category\",\n        \"num_unique_values\": 40,\n        \"samples\": [\n          \" Ophthalmology\",\n          \" Pediatrics - Neonatal\",\n          \" Physical Medicine - Rehab\"\n        ],\n        \"semantic_type\": \"\",\n        \"description\": \"\"\n      }\n    },\n    {\n      \"column\": \"sample_name\",\n      \"properties\": {\n        \"dtype\": \"category\",\n        \"num_unique_values\": 2377,\n        \"samples\": [\n          \" Revocation Admission \",\n          \" Bilateral Hip Pain \",\n          \" Inguinal Hernia Repair - 4 \"\n        ],\n        \"semantic_type\": \"\",\n        \"description\": \"\"\n      }\n    },\n    {\n      \"column\": \"transcription\",\n      \"properties\": {\n        \"dtype\": \"category\",\n        \"num_unique_values\": 2357,\n        \"samples\": [\n          \"SUBJECTIVE:,  Patient presents with Mom and Dad for her 5-year 3-month well-child check.  Family has not concerns stating patient has been doing well overall since last visit.  Taking in a well-balanced diet consisting of milk and dairy products, fruits, vegetables, proteins and grains with minimal junk food and snack food.  No behavioral concerns.  Gets along well with peers as well as adults.  Is excited to start kindergarten this upcoming school year.  Does attend daycare.  Normal voiding and stooling pattern.  No concerns with hearing or vision.  Sees the dentist regularly.  Growth and development:  Denver II normal passing all developmental milestones per age in areas of fine motor, gross motor, personal and social interaction and speech and language development.  See Denver II form in the chart.,ALLERGIES:,  None.,MEDICATIONS: , None.,FAMILY SOCIAL HISTORY:,  Unchanged since last checkup.  Lives at home with mother, father and sibling.  No smoking in the home.,REVIEW OF SYSTEMS:,  As per HPI; otherwise negative.,OBJECTIVE:,Vital Signs:  Weight 43 pounds.  Height 42-1/4 inches.  Temperature 97.7.  Blood pressure 90/64.,General:  Well-developed, well-nourished, cooperative, alert and interactive 5-year -3month-old white female in no acute distress.,HEENT:  Atraumatic, normocephalic.  Pupils equal, round and reactive.  Sclerae clear.  Red reflex present bilaterally.  Extraocular muscles intact.  TMs clear bilaterally.  Oropharynx:  Mucous membranes moist and pink.  Good dentition.,Neck:  Supple, no lymphadenopathy.,Chest:  Clear to auscultation bilaterally.  No wheeze or crackles.  Good air exchange.,Cardiovascular:  Regular rate and rhythm.  No murmur.  Good pulses bilaterally.,Abdomen:  Soft, nontender.  Nondistended.  Positive bowel sounds.  No masses or organomegaly.,GU:  Tanner I female genitalia.  Femoral pulses equal bilaterally.  No rash.,Extremities:  Full range of motion.  No cyanosis, clubbing or edema.,Back:  Straight.  No scoliosis.,Integument:  Warm, dry and pink without lesions.,Neurological:  Alert.  Good muscle tone and strength.  Cranial nerves II-XII grossly intact.  DTRs 2+/4+ bilaterally.,ASSESSMENT/PLAN:,1. Well 5-year 3-month-old white female.,2. Anticipatory guidance for growth and diet development and safety issues as well as immunizations.  Will receive MMR, DTaP and IPV today.  Discussed risks and benefits as well as possible side effects and symptomatic treatment.  Gave 5-year well-child check handout to mom.  Completed school pre-participation physical.  Copy in the chart.  Completed vision and hearing screening.  Reviewed results with family.,3. Follow up in one year for next well-child check or as needed for acute care.\",\n          \"PREOPERATIVE DIAGNOSES: , Erythema of the right knee and leg, possible septic knee.,POSTOPERATIVE DIAGNOSES:,  Erythema of the right knee superficial and leg, right septic knee ruled out.,INDICATIONS: , Mr. ABC is a 52-year-old male who has had approximately eight days of erythema over his knee.  He has been to multiple institutions as an outpatient for this complaint.  He has had what appears to be prepatellar bursa aspirated with little to no success.  He has been treated with Kefzol and 1 g of Rocephin one point.  He also reports, in the emergency department today, an attempt was made to aspirate his actual knee joint which was unsuccessful.  Orthopedic Surgery was consulted at this time.  Considering the patient's physical exam, there is a portal that would prove to be outside of the erythema that would be useful for aspiration of the knee.  After discussion of risks and benefits, the patient elected to proceed with aspiration through the anterolateral portal of his knee joint.,PROCEDURE:  ,The patient's right anterolateral knee area was prepped with Betadine times two and a 20-gauge spinal needle was used to approach the knee joint approximately 3 cm anterior and 2 cm lateral to the superolateral pole of the patella.  The 20-gauge spinal needle was inserted and entered the knee joint.  Approximately, 4 cc of clear yellow fluid was aspirated.  The patient tolerated the procedure well.,DISPOSITION: , Based upon the appearance of this synovial fluid, we have a very low clinical suspicion of a septic joint.  We will send this fluid to the lab for cell count, crystal exam, as well as culture and Gram stain.  We will follow these results.  After discussion with the emergency department staff, it appears that they tend to try to treat his erythema which appears to be cellulitis with IV antibiotics.\",\n          \"REASON FOR CONSULT:,  Depression.,HPI:,  The patient is an 87-year-old white female admitted for low back pain status post hip fracture sustained a few days before Thanksgiving in 2006.  The patient was diagnosed and treated for a T9 compression fraction with vertebroplasty.  Soon after discharge, the patient was readmitted with severe mid low back pain and found to have a T8 compression fracture.  This was also treated with vertebroplasty.  The patient is now complaining of back pain that fluctuates at time, acknowledging her pain medication works but not all the time.  Her pain is in her upper back around her shoulder blades.  The patient says lying down with the heated pad lessens the pain and that any physical activity increases it.  MRI on January 29, 2007, was positive for possible meningioma to the left of anterior box.,The patient reports of many depressive symptoms, has lost all interest in things she used to do (playing cards, reading).  Has no energy to do things she likes, but does participate in physical therapy, cries often and what she believes for no reason.  Does not see any future for herself.  Reports not being able to concentrate on anything saying she gets distracted by thoughts of how she does not want to live anymore.  Admits to decreased appetite, feeling depressed, and always wanting to be alone.  Claims that before her initial hospitalization for her hip fracture, she was highly active, enjoyed living independently at Terrace.  Denies suicidal ideations and homicidal ideations, but that she did not mind dying, and denies any manic symptoms including decreased need to sleep, inflated self-worth, and impulsivity.  Denies auditory and visual hallucinations.  No paranoid, delusions, or other abnormalities of thought content.  Denies panic attacks, flashbacks, and other feelings of anxiety.  Does admit to feeling restless at times.  Is concerned with her physical appearance while in the hospital, i.e., her hair looking \\\"awful.\\\",PAST MEDICAL HISTORY:,  Hypertension, cataracts, hysterectomy, MI, osteoporosis, right total knee replacement in April 2004, hip fracture, and newly diagnosed diabetes.  No history of thyroid problems, seizures, strokes, or head injuries.,CURRENT MEDICATIONS:,  Norvasc 10 mg p.o. daily, aspirin 81 mg p.o. daily, Lipitor 20 mg p.o. daily, Klonopin 0.5 mg p.o. b.i.d., digoxin 0.125 mg p.o. daily, Lexapro 10 mg p.o. daily, TriCor 145 mg p.o. each bedtime, Lasix 20 mg p.o. daily, Ismo 20 mg p.o. daily, lidocaine patch, Zestril, Prinivil 40 mg p.o. daily, Lopressor 75 mg p.o. b.i.d., Starlix 120 mg p.o. t.i.d., Pamelor 25 mg p.o. each bedtime, polyethylene glycol 17 g p.o. every other day, potassium chloride 20 mEq p.o. t.i.d., Norco one tablet p.o. q.4h. p.r.n., Zofran 4 mg IV q.6h.,HOME MEDICATIONS:,  Unknown.,ALLERGIES:,  CODEINE (HALLUCINATIONS).,FAMILY MEDICAL HISTORY:,  Unremarkable.,PAST PSYCHIATRIC HISTORY:,  Unremarkable.  Never taken any psychiatric medications or have ever had a family member with psychiatric illness.,SOCIAL/DEVELOPMENTAL HISTORY:,  Unremarkable childhood.  Married for 40 plus years, widowed in 1981.  Worked as administrative assistant in UTMB Hospitals VP's office.  Two children.  Before admission, lived in the Terrace Independent Living Center.  Was happy and very active while living there.  Had friends in the Terrace and would not mind going back there after discharge.  Occasional glass of wine at dinner.  Denies ever using illicit drugs and tobacco.,MENTAL STATUS EXAM:,  The patient is an 87-year-old white female with appropriate appearance, wearing street clothes while lying in bed with her eyes tightly closed.  Slight decrease in motor activity.  Normal eye contact.  Speech, low volume and rate.  Good articulation and inflexion.  Normal concentration.  Mood, labile, tearful at times, depressed, then euthymic.  Affect, mood congruent, full range.  Thought process, logical and goal directed.  Thought content, no delusions, suicidal or homicidal ideations.  Perception, no auditory or visual hallucinations.  Sensorium, alert, and oriented x3.  Memory, fair.  Information and intelligence, average.  Judgment and insight, fair.,MINI MENTAL STATUS EXAM,:  A 28/30.  Could not remember two out of the three recalled words.,ASSESSMENT:,  The patient is an 87-year-old white female with recent history of hip fracture and two thoracic compression fractures.  The patient reports being high functioning prior to admission and says her depression symptoms have occurred while being in the hospital.,Axis I:  Major depression disorder.,Axis II:  Deferred.,Axis III:  Osteoporosis, hypertension, hip fracture, possible diabetes, meningioma, MI, and right total knee replacement.,Axis IV:  Lives independently at Terrace, difficulty walking, hospitalization.,Axis V:  45.,PLAN:,  Continue Lexapro 10 mg daily and Pamelor 25 mg each bedtime monitor for adverse effects of TCA and worsening of depressive symptoms.  Discussed about possible inpatient psychiatric care.,Thank you for the consultation.\"\n        ],\n        \"semantic_type\": \"\",\n        \"description\": \"\"\n      }\n    },\n    {\n      \"column\": \"keywords\",\n      \"properties\": {\n        \"dtype\": \"string\",\n        \"num_unique_values\": 3849,\n        \"samples\": [\n          \"surgery, extensor tendon laceration, bier block, pip joint, extensor tendon, tendon, repair, finger, laceration, extensor,\",\n          \"surgery, scrotal incision, right vas, bleeding, anesthesia, vasectomy\",\n          \"radiology, i-125 implantation, tumor, prostate, prostate brachytherapy, implantationNOTE,: Thesetranscribed medical transcription sample reports and examples are provided by various users andare for reference purpose only. MTHelpLine does not certify accuracy and quality of sample reports.These transcribed medical transcription sample reports may include some uncommon or unusual formats;this would be due to the preference of the dictating physician. All names and dates have beenchanged (or removed) to keep confidentiality. Any resemblance of any type of name or date orplace or anything else to real world is purely incidental.\"\n        ],\n        \"semantic_type\": \"\",\n        \"description\": \"\"\n      }\n    }\n  ]\n}"
            }
          },
          "metadata": {},
          "execution_count": 72
        }
      ]
    },
    {
      "cell_type": "code",
      "source": [
        "data.info()"
      ],
      "metadata": {
        "colab": {
          "base_uri": "https://localhost:8080/"
        },
        "id": "b9WOJIodnpIy",
        "outputId": "7304efdf-37dd-437a-f085-44bf90ac546e"
      },
      "execution_count": null,
      "outputs": [
        {
          "output_type": "stream",
          "name": "stdout",
          "text": [
            "<class 'pandas.core.frame.DataFrame'>\n",
            "RangeIndex: 4999 entries, 0 to 4998\n",
            "Data columns (total 6 columns):\n",
            " #   Column             Non-Null Count  Dtype \n",
            "---  ------             --------------  ----- \n",
            " 0   Unnamed: 0         4999 non-null   int64 \n",
            " 1   description        4999 non-null   object\n",
            " 2   medical_specialty  4999 non-null   object\n",
            " 3   sample_name        4999 non-null   object\n",
            " 4   transcription      4966 non-null   object\n",
            " 5   keywords           3931 non-null   object\n",
            "dtypes: int64(1), object(5)\n",
            "memory usage: 234.5+ KB\n"
          ]
        }
      ]
    },
    {
      "cell_type": "markdown",
      "source": [
        "### Missing Values"
      ],
      "metadata": {
        "id": "HV5dSeJEkNFU"
      }
    },
    {
      "cell_type": "code",
      "source": [
        "def count_nan_values(data_frame, column_names):\n",
        "    \"\"\"\n",
        "    Counts the number of NaN values in the specified column(s) of the given DataFrame.\n",
        "\n",
        "    Parameters:\n",
        "    - data_frame (pd.DataFrame): The DataFrame to analyze.\n",
        "    - column_names (str or list): The name of the column or a list of column names to check for NaN values.\n",
        "\n",
        "    Returns:\n",
        "    - A dictionary with column names as keys and the count of NaN values as values. If a single column name is provided,\n",
        "      a direct count is returned.\n",
        "    \"\"\"\n",
        "    if isinstance(column_names, str):\n",
        "        # If a single column name is provided, return the count directly\n",
        "        return data_frame[column_names].isna().sum()\n",
        "    elif isinstance(column_names, list):\n",
        "        # If a list of column names is provided, return a dictionary with counts\n",
        "        return {column: data_frame[column].isna().sum() for column in column_names}\n",
        "    else:\n",
        "        raise ValueError(\"The column_names parameter should be either a string or a list of strings.\")"
      ],
      "metadata": {
        "id": "LIYE4R83kqja"
      },
      "execution_count": null,
      "outputs": []
    },
    {
      "cell_type": "code",
      "source": [
        "count = count_nan_values(data, 'transcription')\n",
        "print(f\"Number of NaN values in 'column_name': {count}\")"
      ],
      "metadata": {
        "colab": {
          "base_uri": "https://localhost:8080/"
        },
        "id": "80sR3yixkPDl",
        "outputId": "6b944ead-1b3b-45af-9df1-fa810ba198d1"
      },
      "execution_count": null,
      "outputs": [
        {
          "output_type": "stream",
          "name": "stdout",
          "text": [
            "Number of NaN values in 'column_name': 33\n"
          ]
        }
      ]
    },
    {
      "cell_type": "code",
      "source": [
        "# to identify the null values by descending order\n",
        "data.isnull().sum().sort_values(ascending = False)"
      ],
      "metadata": {
        "colab": {
          "base_uri": "https://localhost:8080/"
        },
        "id": "c-fg2H2QnjH2",
        "outputId": "e2471ab5-0b7c-48e0-a89f-9ebbd2ecc5e2"
      },
      "execution_count": null,
      "outputs": [
        {
          "output_type": "execute_result",
          "data": {
            "text/plain": [
              "keywords             1068\n",
              "transcription          33\n",
              "Unnamed: 0              0\n",
              "description             0\n",
              "medical_specialty       0\n",
              "sample_name             0\n",
              "dtype: int64"
            ]
          },
          "metadata": {},
          "execution_count": 76
        }
      ]
    },
    {
      "cell_type": "markdown",
      "source": [
        "As there are 33 rows with NaN values in transcription these should be removed, as transcription is the sole column we focus on in the rest of the research"
      ],
      "metadata": {
        "id": "fOmh7qF1n05N"
      }
    },
    {
      "cell_type": "markdown",
      "source": [
        "### Drop rows and columns"
      ],
      "metadata": {
        "id": "hCYdIHnMn_f6"
      }
    },
    {
      "cell_type": "markdown",
      "source": [
        "The dataset contains of several categories, but we will need only transcription, and medical_specialty, which is the target disgnostics type."
      ],
      "metadata": {
        "id": "UR_O2cadKvuI"
      }
    },
    {
      "cell_type": "code",
      "source": [
        "data = data[['transcription', 'medical_specialty']]\n",
        "data = data.drop(data[data['transcription'].isna()].index)\n",
        "data.head(2)"
      ],
      "metadata": {
        "id": "lkCJTfaHJ5NS",
        "colab": {
          "base_uri": "https://localhost:8080/",
          "height": 112
        },
        "outputId": "5c2a793e-bae5-46f4-a0bf-d63e3e7bbdc5"
      },
      "execution_count": null,
      "outputs": [
        {
          "output_type": "execute_result",
          "data": {
            "text/plain": [
              "                                       transcription      medical_specialty\n",
              "0  SUBJECTIVE:,  This 23-year-old white female pr...   Allergy / Immunology\n",
              "1  PAST MEDICAL HISTORY:, He has difficulty climb...             Bariatrics"
            ],
            "text/html": [
              "\n",
              "  <div id=\"df-604ad81e-1100-4e8c-a191-9dcb158b55f6\" class=\"colab-df-container\">\n",
              "    <div>\n",
              "<style scoped>\n",
              "    .dataframe tbody tr th:only-of-type {\n",
              "        vertical-align: middle;\n",
              "    }\n",
              "\n",
              "    .dataframe tbody tr th {\n",
              "        vertical-align: top;\n",
              "    }\n",
              "\n",
              "    .dataframe thead th {\n",
              "        text-align: right;\n",
              "    }\n",
              "</style>\n",
              "<table border=\"1\" class=\"dataframe\">\n",
              "  <thead>\n",
              "    <tr style=\"text-align: right;\">\n",
              "      <th></th>\n",
              "      <th>transcription</th>\n",
              "      <th>medical_specialty</th>\n",
              "    </tr>\n",
              "  </thead>\n",
              "  <tbody>\n",
              "    <tr>\n",
              "      <th>0</th>\n",
              "      <td>SUBJECTIVE:,  This 23-year-old white female pr...</td>\n",
              "      <td>Allergy / Immunology</td>\n",
              "    </tr>\n",
              "    <tr>\n",
              "      <th>1</th>\n",
              "      <td>PAST MEDICAL HISTORY:, He has difficulty climb...</td>\n",
              "      <td>Bariatrics</td>\n",
              "    </tr>\n",
              "  </tbody>\n",
              "</table>\n",
              "</div>\n",
              "    <div class=\"colab-df-buttons\">\n",
              "\n",
              "  <div class=\"colab-df-container\">\n",
              "    <button class=\"colab-df-convert\" onclick=\"convertToInteractive('df-604ad81e-1100-4e8c-a191-9dcb158b55f6')\"\n",
              "            title=\"Convert this dataframe to an interactive table.\"\n",
              "            style=\"display:none;\">\n",
              "\n",
              "  <svg xmlns=\"http://www.w3.org/2000/svg\" height=\"24px\" viewBox=\"0 -960 960 960\">\n",
              "    <path d=\"M120-120v-720h720v720H120Zm60-500h600v-160H180v160Zm220 220h160v-160H400v160Zm0 220h160v-160H400v160ZM180-400h160v-160H180v160Zm440 0h160v-160H620v160ZM180-180h160v-160H180v160Zm440 0h160v-160H620v160Z\"/>\n",
              "  </svg>\n",
              "    </button>\n",
              "\n",
              "  <style>\n",
              "    .colab-df-container {\n",
              "      display:flex;\n",
              "      gap: 12px;\n",
              "    }\n",
              "\n",
              "    .colab-df-convert {\n",
              "      background-color: #E8F0FE;\n",
              "      border: none;\n",
              "      border-radius: 50%;\n",
              "      cursor: pointer;\n",
              "      display: none;\n",
              "      fill: #1967D2;\n",
              "      height: 32px;\n",
              "      padding: 0 0 0 0;\n",
              "      width: 32px;\n",
              "    }\n",
              "\n",
              "    .colab-df-convert:hover {\n",
              "      background-color: #E2EBFA;\n",
              "      box-shadow: 0px 1px 2px rgba(60, 64, 67, 0.3), 0px 1px 3px 1px rgba(60, 64, 67, 0.15);\n",
              "      fill: #174EA6;\n",
              "    }\n",
              "\n",
              "    .colab-df-buttons div {\n",
              "      margin-bottom: 4px;\n",
              "    }\n",
              "\n",
              "    [theme=dark] .colab-df-convert {\n",
              "      background-color: #3B4455;\n",
              "      fill: #D2E3FC;\n",
              "    }\n",
              "\n",
              "    [theme=dark] .colab-df-convert:hover {\n",
              "      background-color: #434B5C;\n",
              "      box-shadow: 0px 1px 3px 1px rgba(0, 0, 0, 0.15);\n",
              "      filter: drop-shadow(0px 1px 2px rgba(0, 0, 0, 0.3));\n",
              "      fill: #FFFFFF;\n",
              "    }\n",
              "  </style>\n",
              "\n",
              "    <script>\n",
              "      const buttonEl =\n",
              "        document.querySelector('#df-604ad81e-1100-4e8c-a191-9dcb158b55f6 button.colab-df-convert');\n",
              "      buttonEl.style.display =\n",
              "        google.colab.kernel.accessAllowed ? 'block' : 'none';\n",
              "\n",
              "      async function convertToInteractive(key) {\n",
              "        const element = document.querySelector('#df-604ad81e-1100-4e8c-a191-9dcb158b55f6');\n",
              "        const dataTable =\n",
              "          await google.colab.kernel.invokeFunction('convertToInteractive',\n",
              "                                                    [key], {});\n",
              "        if (!dataTable) return;\n",
              "\n",
              "        const docLinkHtml = 'Like what you see? Visit the ' +\n",
              "          '<a target=\"_blank\" href=https://colab.research.google.com/notebooks/data_table.ipynb>data table notebook</a>'\n",
              "          + ' to learn more about interactive tables.';\n",
              "        element.innerHTML = '';\n",
              "        dataTable['output_type'] = 'display_data';\n",
              "        await google.colab.output.renderOutput(dataTable, element);\n",
              "        const docLink = document.createElement('div');\n",
              "        docLink.innerHTML = docLinkHtml;\n",
              "        element.appendChild(docLink);\n",
              "      }\n",
              "    </script>\n",
              "  </div>\n",
              "\n",
              "\n",
              "<div id=\"df-9bccd4de-bdd3-423b-80bd-7b572912188f\">\n",
              "  <button class=\"colab-df-quickchart\" onclick=\"quickchart('df-9bccd4de-bdd3-423b-80bd-7b572912188f')\"\n",
              "            title=\"Suggest charts\"\n",
              "            style=\"display:none;\">\n",
              "\n",
              "<svg xmlns=\"http://www.w3.org/2000/svg\" height=\"24px\"viewBox=\"0 0 24 24\"\n",
              "     width=\"24px\">\n",
              "    <g>\n",
              "        <path d=\"M19 3H5c-1.1 0-2 .9-2 2v14c0 1.1.9 2 2 2h14c1.1 0 2-.9 2-2V5c0-1.1-.9-2-2-2zM9 17H7v-7h2v7zm4 0h-2V7h2v10zm4 0h-2v-4h2v4z\"/>\n",
              "    </g>\n",
              "</svg>\n",
              "  </button>\n",
              "\n",
              "<style>\n",
              "  .colab-df-quickchart {\n",
              "      --bg-color: #E8F0FE;\n",
              "      --fill-color: #1967D2;\n",
              "      --hover-bg-color: #E2EBFA;\n",
              "      --hover-fill-color: #174EA6;\n",
              "      --disabled-fill-color: #AAA;\n",
              "      --disabled-bg-color: #DDD;\n",
              "  }\n",
              "\n",
              "  [theme=dark] .colab-df-quickchart {\n",
              "      --bg-color: #3B4455;\n",
              "      --fill-color: #D2E3FC;\n",
              "      --hover-bg-color: #434B5C;\n",
              "      --hover-fill-color: #FFFFFF;\n",
              "      --disabled-bg-color: #3B4455;\n",
              "      --disabled-fill-color: #666;\n",
              "  }\n",
              "\n",
              "  .colab-df-quickchart {\n",
              "    background-color: var(--bg-color);\n",
              "    border: none;\n",
              "    border-radius: 50%;\n",
              "    cursor: pointer;\n",
              "    display: none;\n",
              "    fill: var(--fill-color);\n",
              "    height: 32px;\n",
              "    padding: 0;\n",
              "    width: 32px;\n",
              "  }\n",
              "\n",
              "  .colab-df-quickchart:hover {\n",
              "    background-color: var(--hover-bg-color);\n",
              "    box-shadow: 0 1px 2px rgba(60, 64, 67, 0.3), 0 1px 3px 1px rgba(60, 64, 67, 0.15);\n",
              "    fill: var(--button-hover-fill-color);\n",
              "  }\n",
              "\n",
              "  .colab-df-quickchart-complete:disabled,\n",
              "  .colab-df-quickchart-complete:disabled:hover {\n",
              "    background-color: var(--disabled-bg-color);\n",
              "    fill: var(--disabled-fill-color);\n",
              "    box-shadow: none;\n",
              "  }\n",
              "\n",
              "  .colab-df-spinner {\n",
              "    border: 2px solid var(--fill-color);\n",
              "    border-color: transparent;\n",
              "    border-bottom-color: var(--fill-color);\n",
              "    animation:\n",
              "      spin 1s steps(1) infinite;\n",
              "  }\n",
              "\n",
              "  @keyframes spin {\n",
              "    0% {\n",
              "      border-color: transparent;\n",
              "      border-bottom-color: var(--fill-color);\n",
              "      border-left-color: var(--fill-color);\n",
              "    }\n",
              "    20% {\n",
              "      border-color: transparent;\n",
              "      border-left-color: var(--fill-color);\n",
              "      border-top-color: var(--fill-color);\n",
              "    }\n",
              "    30% {\n",
              "      border-color: transparent;\n",
              "      border-left-color: var(--fill-color);\n",
              "      border-top-color: var(--fill-color);\n",
              "      border-right-color: var(--fill-color);\n",
              "    }\n",
              "    40% {\n",
              "      border-color: transparent;\n",
              "      border-right-color: var(--fill-color);\n",
              "      border-top-color: var(--fill-color);\n",
              "    }\n",
              "    60% {\n",
              "      border-color: transparent;\n",
              "      border-right-color: var(--fill-color);\n",
              "    }\n",
              "    80% {\n",
              "      border-color: transparent;\n",
              "      border-right-color: var(--fill-color);\n",
              "      border-bottom-color: var(--fill-color);\n",
              "    }\n",
              "    90% {\n",
              "      border-color: transparent;\n",
              "      border-bottom-color: var(--fill-color);\n",
              "    }\n",
              "  }\n",
              "</style>\n",
              "\n",
              "  <script>\n",
              "    async function quickchart(key) {\n",
              "      const quickchartButtonEl =\n",
              "        document.querySelector('#' + key + ' button');\n",
              "      quickchartButtonEl.disabled = true;  // To prevent multiple clicks.\n",
              "      quickchartButtonEl.classList.add('colab-df-spinner');\n",
              "      try {\n",
              "        const charts = await google.colab.kernel.invokeFunction(\n",
              "            'suggestCharts', [key], {});\n",
              "      } catch (error) {\n",
              "        console.error('Error during call to suggestCharts:', error);\n",
              "      }\n",
              "      quickchartButtonEl.classList.remove('colab-df-spinner');\n",
              "      quickchartButtonEl.classList.add('colab-df-quickchart-complete');\n",
              "    }\n",
              "    (() => {\n",
              "      let quickchartButtonEl =\n",
              "        document.querySelector('#df-9bccd4de-bdd3-423b-80bd-7b572912188f button');\n",
              "      quickchartButtonEl.style.display =\n",
              "        google.colab.kernel.accessAllowed ? 'block' : 'none';\n",
              "    })();\n",
              "  </script>\n",
              "</div>\n",
              "    </div>\n",
              "  </div>\n"
            ],
            "application/vnd.google.colaboratory.intrinsic+json": {
              "type": "dataframe",
              "variable_name": "data",
              "summary": "{\n  \"name\": \"data\",\n  \"rows\": 4966,\n  \"fields\": [\n    {\n      \"column\": \"transcription\",\n      \"properties\": {\n        \"dtype\": \"category\",\n        \"num_unique_values\": 2357,\n        \"samples\": [\n          \"SUBJECTIVE:,  Patient presents with Mom and Dad for her 5-year 3-month well-child check.  Family has not concerns stating patient has been doing well overall since last visit.  Taking in a well-balanced diet consisting of milk and dairy products, fruits, vegetables, proteins and grains with minimal junk food and snack food.  No behavioral concerns.  Gets along well with peers as well as adults.  Is excited to start kindergarten this upcoming school year.  Does attend daycare.  Normal voiding and stooling pattern.  No concerns with hearing or vision.  Sees the dentist regularly.  Growth and development:  Denver II normal passing all developmental milestones per age in areas of fine motor, gross motor, personal and social interaction and speech and language development.  See Denver II form in the chart.,ALLERGIES:,  None.,MEDICATIONS: , None.,FAMILY SOCIAL HISTORY:,  Unchanged since last checkup.  Lives at home with mother, father and sibling.  No smoking in the home.,REVIEW OF SYSTEMS:,  As per HPI; otherwise negative.,OBJECTIVE:,Vital Signs:  Weight 43 pounds.  Height 42-1/4 inches.  Temperature 97.7.  Blood pressure 90/64.,General:  Well-developed, well-nourished, cooperative, alert and interactive 5-year -3month-old white female in no acute distress.,HEENT:  Atraumatic, normocephalic.  Pupils equal, round and reactive.  Sclerae clear.  Red reflex present bilaterally.  Extraocular muscles intact.  TMs clear bilaterally.  Oropharynx:  Mucous membranes moist and pink.  Good dentition.,Neck:  Supple, no lymphadenopathy.,Chest:  Clear to auscultation bilaterally.  No wheeze or crackles.  Good air exchange.,Cardiovascular:  Regular rate and rhythm.  No murmur.  Good pulses bilaterally.,Abdomen:  Soft, nontender.  Nondistended.  Positive bowel sounds.  No masses or organomegaly.,GU:  Tanner I female genitalia.  Femoral pulses equal bilaterally.  No rash.,Extremities:  Full range of motion.  No cyanosis, clubbing or edema.,Back:  Straight.  No scoliosis.,Integument:  Warm, dry and pink without lesions.,Neurological:  Alert.  Good muscle tone and strength.  Cranial nerves II-XII grossly intact.  DTRs 2+/4+ bilaterally.,ASSESSMENT/PLAN:,1. Well 5-year 3-month-old white female.,2. Anticipatory guidance for growth and diet development and safety issues as well as immunizations.  Will receive MMR, DTaP and IPV today.  Discussed risks and benefits as well as possible side effects and symptomatic treatment.  Gave 5-year well-child check handout to mom.  Completed school pre-participation physical.  Copy in the chart.  Completed vision and hearing screening.  Reviewed results with family.,3. Follow up in one year for next well-child check or as needed for acute care.\",\n          \"PREOPERATIVE DIAGNOSES: , Erythema of the right knee and leg, possible septic knee.,POSTOPERATIVE DIAGNOSES:,  Erythema of the right knee superficial and leg, right septic knee ruled out.,INDICATIONS: , Mr. ABC is a 52-year-old male who has had approximately eight days of erythema over his knee.  He has been to multiple institutions as an outpatient for this complaint.  He has had what appears to be prepatellar bursa aspirated with little to no success.  He has been treated with Kefzol and 1 g of Rocephin one point.  He also reports, in the emergency department today, an attempt was made to aspirate his actual knee joint which was unsuccessful.  Orthopedic Surgery was consulted at this time.  Considering the patient's physical exam, there is a portal that would prove to be outside of the erythema that would be useful for aspiration of the knee.  After discussion of risks and benefits, the patient elected to proceed with aspiration through the anterolateral portal of his knee joint.,PROCEDURE:  ,The patient's right anterolateral knee area was prepped with Betadine times two and a 20-gauge spinal needle was used to approach the knee joint approximately 3 cm anterior and 2 cm lateral to the superolateral pole of the patella.  The 20-gauge spinal needle was inserted and entered the knee joint.  Approximately, 4 cc of clear yellow fluid was aspirated.  The patient tolerated the procedure well.,DISPOSITION: , Based upon the appearance of this synovial fluid, we have a very low clinical suspicion of a septic joint.  We will send this fluid to the lab for cell count, crystal exam, as well as culture and Gram stain.  We will follow these results.  After discussion with the emergency department staff, it appears that they tend to try to treat his erythema which appears to be cellulitis with IV antibiotics.\",\n          \"REASON FOR CONSULT:,  Depression.,HPI:,  The patient is an 87-year-old white female admitted for low back pain status post hip fracture sustained a few days before Thanksgiving in 2006.  The patient was diagnosed and treated for a T9 compression fraction with vertebroplasty.  Soon after discharge, the patient was readmitted with severe mid low back pain and found to have a T8 compression fracture.  This was also treated with vertebroplasty.  The patient is now complaining of back pain that fluctuates at time, acknowledging her pain medication works but not all the time.  Her pain is in her upper back around her shoulder blades.  The patient says lying down with the heated pad lessens the pain and that any physical activity increases it.  MRI on January 29, 2007, was positive for possible meningioma to the left of anterior box.,The patient reports of many depressive symptoms, has lost all interest in things she used to do (playing cards, reading).  Has no energy to do things she likes, but does participate in physical therapy, cries often and what she believes for no reason.  Does not see any future for herself.  Reports not being able to concentrate on anything saying she gets distracted by thoughts of how she does not want to live anymore.  Admits to decreased appetite, feeling depressed, and always wanting to be alone.  Claims that before her initial hospitalization for her hip fracture, she was highly active, enjoyed living independently at Terrace.  Denies suicidal ideations and homicidal ideations, but that she did not mind dying, and denies any manic symptoms including decreased need to sleep, inflated self-worth, and impulsivity.  Denies auditory and visual hallucinations.  No paranoid, delusions, or other abnormalities of thought content.  Denies panic attacks, flashbacks, and other feelings of anxiety.  Does admit to feeling restless at times.  Is concerned with her physical appearance while in the hospital, i.e., her hair looking \\\"awful.\\\",PAST MEDICAL HISTORY:,  Hypertension, cataracts, hysterectomy, MI, osteoporosis, right total knee replacement in April 2004, hip fracture, and newly diagnosed diabetes.  No history of thyroid problems, seizures, strokes, or head injuries.,CURRENT MEDICATIONS:,  Norvasc 10 mg p.o. daily, aspirin 81 mg p.o. daily, Lipitor 20 mg p.o. daily, Klonopin 0.5 mg p.o. b.i.d., digoxin 0.125 mg p.o. daily, Lexapro 10 mg p.o. daily, TriCor 145 mg p.o. each bedtime, Lasix 20 mg p.o. daily, Ismo 20 mg p.o. daily, lidocaine patch, Zestril, Prinivil 40 mg p.o. daily, Lopressor 75 mg p.o. b.i.d., Starlix 120 mg p.o. t.i.d., Pamelor 25 mg p.o. each bedtime, polyethylene glycol 17 g p.o. every other day, potassium chloride 20 mEq p.o. t.i.d., Norco one tablet p.o. q.4h. p.r.n., Zofran 4 mg IV q.6h.,HOME MEDICATIONS:,  Unknown.,ALLERGIES:,  CODEINE (HALLUCINATIONS).,FAMILY MEDICAL HISTORY:,  Unremarkable.,PAST PSYCHIATRIC HISTORY:,  Unremarkable.  Never taken any psychiatric medications or have ever had a family member with psychiatric illness.,SOCIAL/DEVELOPMENTAL HISTORY:,  Unremarkable childhood.  Married for 40 plus years, widowed in 1981.  Worked as administrative assistant in UTMB Hospitals VP's office.  Two children.  Before admission, lived in the Terrace Independent Living Center.  Was happy and very active while living there.  Had friends in the Terrace and would not mind going back there after discharge.  Occasional glass of wine at dinner.  Denies ever using illicit drugs and tobacco.,MENTAL STATUS EXAM:,  The patient is an 87-year-old white female with appropriate appearance, wearing street clothes while lying in bed with her eyes tightly closed.  Slight decrease in motor activity.  Normal eye contact.  Speech, low volume and rate.  Good articulation and inflexion.  Normal concentration.  Mood, labile, tearful at times, depressed, then euthymic.  Affect, mood congruent, full range.  Thought process, logical and goal directed.  Thought content, no delusions, suicidal or homicidal ideations.  Perception, no auditory or visual hallucinations.  Sensorium, alert, and oriented x3.  Memory, fair.  Information and intelligence, average.  Judgment and insight, fair.,MINI MENTAL STATUS EXAM,:  A 28/30.  Could not remember two out of the three recalled words.,ASSESSMENT:,  The patient is an 87-year-old white female with recent history of hip fracture and two thoracic compression fractures.  The patient reports being high functioning prior to admission and says her depression symptoms have occurred while being in the hospital.,Axis I:  Major depression disorder.,Axis II:  Deferred.,Axis III:  Osteoporosis, hypertension, hip fracture, possible diabetes, meningioma, MI, and right total knee replacement.,Axis IV:  Lives independently at Terrace, difficulty walking, hospitalization.,Axis V:  45.,PLAN:,  Continue Lexapro 10 mg daily and Pamelor 25 mg each bedtime monitor for adverse effects of TCA and worsening of depressive symptoms.  Discussed about possible inpatient psychiatric care.,Thank you for the consultation.\"\n        ],\n        \"semantic_type\": \"\",\n        \"description\": \"\"\n      }\n    },\n    {\n      \"column\": \"medical_specialty\",\n      \"properties\": {\n        \"dtype\": \"category\",\n        \"num_unique_values\": 40,\n        \"samples\": [\n          \" Ophthalmology\",\n          \" Pediatrics - Neonatal\",\n          \" Physical Medicine - Rehab\"\n        ],\n        \"semantic_type\": \"\",\n        \"description\": \"\"\n      }\n    }\n  ]\n}"
            }
          },
          "metadata": {},
          "execution_count": 77
        }
      ]
    },
    {
      "cell_type": "markdown",
      "source": [
        "## Data review"
      ],
      "metadata": {
        "id": "pgifBMNFK1Gn"
      }
    },
    {
      "cell_type": "code",
      "source": [
        "data['medical_specialty'].value_counts()"
      ],
      "metadata": {
        "colab": {
          "base_uri": "https://localhost:8080/"
        },
        "id": "h5TKIc_1K65b",
        "outputId": "b3f1386c-f88a-4ea0-f7e6-65314acf609b"
      },
      "execution_count": null,
      "outputs": [
        {
          "output_type": "execute_result",
          "data": {
            "text/plain": [
              " Surgery                          1088\n",
              " Consult - History and Phy.        516\n",
              " Cardiovascular / Pulmonary        371\n",
              " Orthopedic                        355\n",
              " Radiology                         273\n",
              " General Medicine                  259\n",
              " Gastroenterology                  224\n",
              " Neurology                         223\n",
              " SOAP / Chart / Progress Notes     166\n",
              " Urology                           156\n",
              " Obstetrics / Gynecology           155\n",
              " Discharge Summary                 108\n",
              " ENT - Otolaryngology               96\n",
              " Neurosurgery                       94\n",
              " Hematology - Oncology              90\n",
              " Ophthalmology                      83\n",
              " Nephrology                         81\n",
              " Emergency Room Reports             75\n",
              " Pediatrics - Neonatal              70\n",
              " Pain Management                    61\n",
              " Psychiatry / Psychology            53\n",
              " Office Notes                       50\n",
              " Podiatry                           47\n",
              " Dermatology                        29\n",
              " Cosmetic / Plastic Surgery         27\n",
              " Dentistry                          27\n",
              " Letters                            23\n",
              " Physical Medicine - Rehab          21\n",
              " Sleep Medicine                     20\n",
              " Endocrinology                      19\n",
              " Bariatrics                         18\n",
              " IME-QME-Work Comp etc.             16\n",
              " Chiropractic                       14\n",
              " Rheumatology                       10\n",
              " Diets and Nutritions               10\n",
              " Speech - Language                   9\n",
              " Autopsy                             8\n",
              " Lab Medicine - Pathology            8\n",
              " Allergy / Immunology                7\n",
              " Hospice - Palliative Care           6\n",
              "Name: medical_specialty, dtype: int64"
            ]
          },
          "metadata": {},
          "execution_count": 79
        }
      ]
    },
    {
      "cell_type": "code",
      "source": [
        "import nltk\n",
        "from nltk.tokenize import sent_tokenize, word_tokenize\n",
        "from nltk.tokenize import RegexpTokenizer\n",
        "\n",
        "# Ensure NLTK resources are downloaded (only need to do this once)\n",
        "nltk.download('punkt')\n",
        "\n",
        "def get_sentence_word_count(transcriptions):\n",
        "    sentence_count = sum(len(sent_tokenize(text)) for text in transcriptions)\n",
        "    words = [word for text in transcriptions for word in word_tokenize(text)]\n",
        "    unique_words = set(words)\n",
        "    return sentence_count, len(unique_words)\n",
        "\n",
        "# Filter out rows where 'transcription' is NaN\n",
        "data = data[data['transcription'].notna()]\n",
        "\n",
        "# Convert 'transcription' column to a list of strings for processing\n",
        "transcriptions = data['transcription'].tolist()\n",
        "\n",
        "# Get sentence and unique word counts\n",
        "sent_count, word_count = get_sentence_word_count(transcriptions)\n",
        "\n",
        "print(\"Number of sentences in transcriptions column: \" + str(sent_count))\n",
        "print(\"Number of unique words in transcriptions column: \" + str(word_count))"
      ],
      "metadata": {
        "colab": {
          "base_uri": "https://localhost:8080/"
        },
        "id": "e9BU5chWSOAx",
        "outputId": "994a0c06-2607-4401-82a5-59c100660430"
      },
      "execution_count": null,
      "outputs": [
        {
          "output_type": "stream",
          "name": "stderr",
          "text": [
            "[nltk_data] Downloading package punkt to /root/nltk_data...\n",
            "[nltk_data]   Package punkt is already up-to-date!\n"
          ]
        },
        {
          "output_type": "stream",
          "name": "stdout",
          "text": [
            "Number of sentences in transcriptions column: 147028\n",
            "Number of unique words in transcriptions column: 41910\n"
          ]
        }
      ]
    },
    {
      "cell_type": "code",
      "source": [
        "# Ensure NLTK resources are downloaded (only need to do this once)\n",
        "nltk.download('punkt')\n",
        "\n",
        "def analyze_transcription_metrics(transcription):\n",
        "    # Tokenize the transcription into sentences and words\n",
        "    sentences = sent_tokenize(transcription)\n",
        "    words = word_tokenize(transcription)\n",
        "\n",
        "    # Calculate metrics\n",
        "    word_count = len(words)\n",
        "    mean_word_length = sum(len(word) for word in words) / word_count\n",
        "    mean_sentence_length = sum(len(sentence.split()) for sentence in sentences) / len(sentences)\n",
        "    length_of_sample_review = len(transcription)  # Length of the sample review\n",
        "\n",
        "    return {\n",
        "        \"Word count\": word_count,\n",
        "        \"Mean word length\": mean_word_length,\n",
        "        \"Mean sentence length\": mean_sentence_length,\n",
        "        \"Length of sample review\": length_of_sample_review,\n",
        "        \"Number of words in review\": word_count,  # This is the same as word_count\n",
        "        \"Avg length of words\": mean_word_length,  # This is the same as mean_word_length\n",
        "        \"Avg length of sentences in review\": mean_sentence_length,  # Same as mean_sentence_length\n",
        "    }\n",
        "\n",
        "# Assuming 'data' is your DataFrame and it has a 'transcription' column\n",
        "# Filter out rows where 'transcription' is NaN\n",
        "data = data[data['transcription'].notna()]\n",
        "\n",
        "# Apply the analysis to each transcription and create a new DataFrame with the results\n",
        "metrics = data['transcription'].apply(analyze_transcription_metrics)\n",
        "metrics_df = pd.DataFrame(metrics.tolist())\n",
        "\n",
        "# Calculate mean, min, and max for each metric\n",
        "metrics_summary = pd.DataFrame({\n",
        "    \"Mean\": metrics_df.mean(),\n",
        "    \"Min\": metrics_df.min(),\n",
        "    \"Max\": metrics_df.max()\n",
        "})\n",
        "\n",
        "print(metrics_summary)\n"
      ],
      "metadata": {
        "colab": {
          "base_uri": "https://localhost:8080/"
        },
        "id": "RHSespKEbU5L",
        "outputId": "0edc4423-93c0-4b50-a50a-5f1e23b82fa1"
      },
      "execution_count": null,
      "outputs": [
        {
          "output_type": "stream",
          "name": "stderr",
          "text": [
            "[nltk_data] Downloading package punkt to /root/nltk_data...\n",
            "[nltk_data]   Package punkt is already up-to-date!\n"
          ]
        },
        {
          "output_type": "stream",
          "name": "stdout",
          "text": [
            "                                          Mean    Min           Max\n",
            "Word count                          553.022755   3.00   3489.000000\n",
            "Mean word length                      4.649651   3.25      7.333333\n",
            "Mean sentence length                 16.914368   1.00    114.000000\n",
            "Length of sample review            3052.314337  11.00  18425.000000\n",
            "Number of words in review           553.022755   3.00   3489.000000\n",
            "Avg length of words                   4.649651   3.25      7.333333\n",
            "Avg length of sentences in review    16.914368   1.00    114.000000\n"
          ]
        }
      ]
    },
    {
      "cell_type": "code",
      "source": [
        "from keras.preprocessing.text import Tokenizer\n",
        "from keras.preprocessing.sequence import pad_sequences\n",
        "from keras.utils import to_categorical\n",
        "from nltk.tokenize import RegexpTokenizer\n",
        "\n",
        "# Ensure all entries in \"transcription\" are strings\n",
        "data[\"transcription\"] = data[\"transcription\"].astype(str)\n",
        "\n",
        "# Create a list of tokens for each sentence\n",
        "tokenizer = RegexpTokenizer(r'\\w+')\n",
        "data[\"tokens\"] = data[\"transcription\"].apply(tokenizer.tokenize)\n",
        "\n",
        "all_words = [word for tokens in data[\"tokens\"] for word in tokens]\n",
        "sentence_lengths = [len(tokens) for tokens in data[\"tokens\"]]\n",
        "VOCAB = sorted(list(set(all_words)))\n",
        "print(\"%s words total, with a vocabulary size of %s\" % (len(all_words), len(VOCAB)))\n",
        "print(\"Max sentence length is %s\" % max(sentence_lengths))\n"
      ],
      "metadata": {
        "colab": {
          "base_uri": "https://localhost:8080/"
        },
        "id": "5beDGmUWLoxh",
        "outputId": "21f5d398-bd70-4d15-af38-bf70189d17c0"
      },
      "execution_count": null,
      "outputs": [
        {
          "output_type": "stream",
          "name": "stdout",
          "text": [
            "2420937 words total, with a vocabulary size of 28581\n",
            "Max sentence length is 3114\n"
          ]
        }
      ]
    },
    {
      "cell_type": "code",
      "source": [
        "import nltk\n",
        "from nltk.tokenize import sent_tokenize, word_tokenize\n",
        "\n",
        "# Ensure NLTK resources are downloaded (only need to do this once)\n",
        "nltk.download('punkt')\n",
        "\n",
        "def calculate_corpus_statistics(data):\n",
        "    total_sentences = 0\n",
        "    total_words = 0\n",
        "\n",
        "    for transcription in data['transcription']:\n",
        "        # Tokenize the transcription into sentences and words\n",
        "        sentences = sent_tokenize(transcription)\n",
        "        words = word_tokenize(transcription)\n",
        "\n",
        "        # Update total counts\n",
        "        total_sentences += len(sentences)\n",
        "        total_words += len(words)\n",
        "\n",
        "    return total_sentences, total_words\n",
        "\n",
        "# Assuming 'data' is your DataFrame and it has a 'transcription' column\n",
        "# Filter out rows where 'transcription' is NaN\n",
        "data = data[data['transcription'].notna()]\n",
        "\n",
        "# Calculate total sentences and words in the corpus\n",
        "total_sentences, total_words = calculate_corpus_statistics(data)\n",
        "\n",
        "print(f\"Total sentences in the corpus: {total_sentences}\")\n",
        "print(f\"Total words in the corpus: {total_words}\")\n"
      ],
      "metadata": {
        "colab": {
          "base_uri": "https://localhost:8080/"
        },
        "id": "YqxF2eTc7W6V",
        "outputId": "2a16c667-bc7b-48b1-8fd2-be4a66b1d2f9"
      },
      "execution_count": null,
      "outputs": [
        {
          "output_type": "stream",
          "name": "stderr",
          "text": [
            "[nltk_data] Downloading package punkt to /root/nltk_data...\n",
            "[nltk_data]   Package punkt is already up-to-date!\n"
          ]
        },
        {
          "output_type": "stream",
          "name": "stdout",
          "text": [
            "Total sentences in the corpus: 147028\n",
            "Total words in the corpus: 2746311\n"
          ]
        }
      ]
    },
    {
      "cell_type": "code",
      "source": [
        "fig = plt.figure(figsize=(10, 10))\n",
        "plt.title('Sentence length histogram')\n",
        "plt.xlabel('Sentence length')\n",
        "plt.ylabel('Number of sentences')\n",
        "plt.hist(sentence_lengths, edgecolor = 'black', bins = 20)\n",
        "plt.show()"
      ],
      "metadata": {
        "colab": {
          "base_uri": "https://localhost:8080/",
          "height": 872
        },
        "id": "yBSu6nlmMGjT",
        "outputId": "a94ed8a8-126e-4f14-800d-ac0bd5788d26"
      },
      "execution_count": null,
      "outputs": [
        {
          "output_type": "display_data",
          "data": {
            "text/plain": [
              "<Figure size 1000x1000 with 1 Axes>"
            ],
            "image/png": "[encoded data removed]"
          },
          "metadata": {}
        }
      ]
    },
    {
      "cell_type": "code",
      "source": [
        "print(f\"Median sentence length {np.median(sentence_lengths)}\")\n",
        "print(f\"Mean sentence length {round(np.mean(sentence_lengths), 2)}\")"
      ],
      "metadata": {
        "colab": {
          "base_uri": "https://localhost:8080/"
        },
        "id": "25CsTCQjMLhv",
        "outputId": "d9e08383-09da-4eb1-f1cc-4cbb40e91aea"
      },
      "execution_count": null,
      "outputs": [
        {
          "output_type": "stream",
          "name": "stdout",
          "text": [
            "Median sentence length 421.5\n",
            "Mean sentence length 487.5\n"
          ]
        }
      ]
    },
    {
      "cell_type": "code",
      "source": [
        "import pandas as pd\n",
        "from nltk.tokenize import word_tokenize\n",
        "\n",
        "# Ensure NLTK resources are downloaded (if not already done)\n",
        "#nltk.download('punkt')\n",
        "\n",
        "# Function to count occurrences of specific words\n",
        "def count_specific_words(data, words):\n",
        "    # Tokenize the 'transcription' text into individual words for each row\n",
        "    data['tokens'] = data['transcription'].apply(lambda x: word_tokenize(x.lower()))\n",
        "\n",
        "    # Count occurrences of each specified word\n",
        "    word_counts = {word: sum(data['tokens'].apply(lambda tokens: tokens.count(word))) for word in words}\n",
        "    return word_counts\n",
        "\n",
        "# Words to count\n",
        "words_to_count = ['female', 'male', 'age', 'old']\n",
        "\n",
        "# Count specific words\n",
        "word_counts = count_specific_words(data, words_to_count)\n",
        "\n",
        "# Count occurrences of specific phrases\n",
        "phrase_counts = {\n",
        "    \"lived in\": data['transcription'].str.contains('lived in', case=False, na=False).sum(),\n",
        "}\n",
        "\n",
        "# Print results\n",
        "print(\"Word Counts:\")\n",
        "for word, count in word_counts.items():\n",
        "    print(f\"{word}: {count}\")\n",
        "\n",
        "print(\"\\nPhrase Counts:\")\n",
        "for phrase, count in phrase_counts.items():\n",
        "    print(f\"{phrase}: {count}\")\n"
      ],
      "metadata": {
        "colab": {
          "base_uri": "https://localhost:8080/"
        },
        "id": "3Fcii8gBWFUM",
        "outputId": "4cf50484-ab8d-49bd-b3a0-ff8c9ffdd46e"
      },
      "execution_count": null,
      "outputs": [
        {
          "output_type": "stream",
          "name": "stdout",
          "text": [
            "Word Counts:\n",
            "female: 1440\n",
            "male: 1085\n",
            "age: 822\n",
            "old: 390\n",
            "\n",
            "Phrase Counts:\n",
            "lived in: 11\n"
          ]
        }
      ]
    },
    {
      "cell_type": "markdown",
      "source": [
        "## Data Transformation: Tokenisation"
      ],
      "metadata": {
        "id": "hnSsFYjhMQo6"
      }
    },
    {
      "cell_type": "markdown",
      "source": [
        "* The data needs to be normalised to ensure proper tokenization\n",
        "* The tokenization is needed to train the PII redaction models on the sensitive tokens that differ for the medical dataset vs the huggingface dataset\n",
        "* The PII redaction model recognizes weight (e.g. BMI) metrics as age for example"
      ],
      "metadata": {
        "id": "i476pFv9qcU8"
      }
    },
    {
      "cell_type": "markdown",
      "source": [
        "### Text Normalisation to apply Tokenisation"
      ],
      "metadata": {
        "id": "L-3pTIW7qj2-"
      }
    },
    {
      "cell_type": "code",
      "source": [
        "import pandas as pd\n",
        "import re\n",
        "import warnings\n",
        "\n",
        "def remove_punctuation_and_numbers(data_frame, column_name):\n",
        "    \"\"\"\n",
        "    Removes punctuation and numbers from a specified column in a pandas DataFrame.\n",
        "\n",
        "    Parameters:\n",
        "    - data_frame (pd.DataFrame): The DataFrame containing the data to be cleaned.\n",
        "    - column_name (str): The name of the column from which punctuation and numbers will be removed.\n",
        "\n",
        "    Returns:\n",
        "    - pd.DataFrame: A copy of the DataFrame with punctuation and numbers removed from the specified column.\n",
        "    \"\"\"\n",
        "    # Suppress warnings locally within this function\n",
        "    with warnings.catch_warnings():\n",
        "        warnings.simplefilter('ignore')\n",
        "\n",
        "        # Make a copy of the DataFrame to avoid modifying the original\n",
        "        df_cleaned = data_frame.copy()\n",
        "\n",
        "        # Remove punctuation and numbers from the specified column\n",
        "        df_cleaned[column_name] = df_cleaned[column_name].apply(lambda x: \" \".join(re.findall('[\\w]+', str(x))))\n",
        "        df_cleaned[column_name] = df_cleaned[column_name].str.replace('\\d+', '', regex=True)\n",
        "\n",
        "        return df_cleaned\n"
      ],
      "metadata": {
        "id": "d7qEqavcqeEu"
      },
      "execution_count": null,
      "outputs": []
    },
    {
      "cell_type": "code",
      "source": [
        "# Example usage:\n",
        "# Assuming 'df' is your DataFrame and 'transcription' is the column you want to clean:\n",
        "data = remove_punctuation_and_numbers(data, 'transcription')\n",
        "data.head(3)"
      ],
      "metadata": {
        "colab": {
          "base_uri": "https://localhost:8080/",
          "height": 143
        },
        "id": "ry__oJg-ql2m",
        "outputId": "9c334d80-2848-4036-978a-8ce6e9e069b8"
      },
      "execution_count": null,
      "outputs": [
        {
          "output_type": "execute_result",
          "data": {
            "text/plain": [
              "                                       transcription      medical_specialty  \\\n",
              "0  SUBJECTIVE This  year old white female present...   Allergy / Immunology   \n",
              "1  PAST MEDICAL HISTORY He has difficulty climbin...             Bariatrics   \n",
              "2  HISTORY OF PRESENT ILLNESS I have seen ABC tod...             Bariatrics   \n",
              "\n",
              "                                              tokens  \n",
              "0  [subjective, :, ,, this, 23-year-old, white, f...  \n",
              "1  [past, medical, history, :, ,, he, has, diffic...  \n",
              "2  [history, of, present, illness, :, ,, i, have,...  "
            ],
            "text/html": [
              "\n",
              "  <div id=\"df-eb620842-af58-41c1-b18e-1cbdbfcdba50\" class=\"colab-df-container\">\n",
              "    <div>\n",
              "<style scoped>\n",
              "    .dataframe tbody tr th:only-of-type {\n",
              "        vertical-align: middle;\n",
              "    }\n",
              "\n",
              "    .dataframe tbody tr th {\n",
              "        vertical-align: top;\n",
              "    }\n",
              "\n",
              "    .dataframe thead th {\n",
              "        text-align: right;\n",
              "    }\n",
              "</style>\n",
              "<table border=\"1\" class=\"dataframe\">\n",
              "  <thead>\n",
              "    <tr style=\"text-align: right;\">\n",
              "      <th></th>\n",
              "      <th>transcription</th>\n",
              "      <th>medical_specialty</th>\n",
              "      <th>tokens</th>\n",
              "    </tr>\n",
              "  </thead>\n",
              "  <tbody>\n",
              "    <tr>\n",
              "      <th>0</th>\n",
              "      <td>SUBJECTIVE This  year old white female present...</td>\n",
              "      <td>Allergy / Immunology</td>\n",
              "      <td>[subjective, :, ,, this, 23-year-old, white, f...</td>\n",
              "    </tr>\n",
              "    <tr>\n",
              "      <th>1</th>\n",
              "      <td>PAST MEDICAL HISTORY He has difficulty climbin...</td>\n",
              "      <td>Bariatrics</td>\n",
              "      <td>[past, medical, history, :, ,, he, has, diffic...</td>\n",
              "    </tr>\n",
              "    <tr>\n",
              "      <th>2</th>\n",
              "      <td>HISTORY OF PRESENT ILLNESS I have seen ABC tod...</td>\n",
              "      <td>Bariatrics</td>\n",
              "      <td>[history, of, present, illness, :, ,, i, have,...</td>\n",
              "    </tr>\n",
              "  </tbody>\n",
              "</table>\n",
              "</div>\n",
              "    <div class=\"colab-df-buttons\">\n",
              "\n",
              "  <div class=\"colab-df-container\">\n",
              "    <button class=\"colab-df-convert\" onclick=\"convertToInteractive('df-eb620842-af58-41c1-b18e-1cbdbfcdba50')\"\n",
              "            title=\"Convert this dataframe to an interactive table.\"\n",
              "            style=\"display:none;\">\n",
              "\n",
              "  <svg xmlns=\"http://www.w3.org/2000/svg\" height=\"24px\" viewBox=\"0 -960 960 960\">\n",
              "    <path d=\"M120-120v-720h720v720H120Zm60-500h600v-160H180v160Zm220 220h160v-160H400v160Zm0 220h160v-160H400v160ZM180-400h160v-160H180v160Zm440 0h160v-160H620v160ZM180-180h160v-160H180v160Zm440 0h160v-160H620v160Z\"/>\n",
              "  </svg>\n",
              "    </button>\n",
              "\n",
              "  <style>\n",
              "    .colab-df-container {\n",
              "      display:flex;\n",
              "      gap: 12px;\n",
              "    }\n",
              "\n",
              "    .colab-df-convert {\n",
              "      background-color: #E8F0FE;\n",
              "      border: none;\n",
              "      border-radius: 50%;\n",
              "      cursor: pointer;\n",
              "      display: none;\n",
              "      fill: #1967D2;\n",
              "      height: 32px;\n",
              "      padding: 0 0 0 0;\n",
              "      width: 32px;\n",
              "    }\n",
              "\n",
              "    .colab-df-convert:hover {\n",
              "      background-color: #E2EBFA;\n",
              "      box-shadow: 0px 1px 2px rgba(60, 64, 67, 0.3), 0px 1px 3px 1px rgba(60, 64, 67, 0.15);\n",
              "      fill: #174EA6;\n",
              "    }\n",
              "\n",
              "    .colab-df-buttons div {\n",
              "      margin-bottom: 4px;\n",
              "    }\n",
              "\n",
              "    [theme=dark] .colab-df-convert {\n",
              "      background-color: #3B4455;\n",
              "      fill: #D2E3FC;\n",
              "    }\n",
              "\n",
              "    [theme=dark] .colab-df-convert:hover {\n",
              "      background-color: #434B5C;\n",
              "      box-shadow: 0px 1px 3px 1px rgba(0, 0, 0, 0.15);\n",
              "      filter: drop-shadow(0px 1px 2px rgba(0, 0, 0, 0.3));\n",
              "      fill: #FFFFFF;\n",
              "    }\n",
              "  </style>\n",
              "\n",
              "    <script>\n",
              "      const buttonEl =\n",
              "        document.querySelector('#df-eb620842-af58-41c1-b18e-1cbdbfcdba50 button.colab-df-convert');\n",
              "      buttonEl.style.display =\n",
              "        google.colab.kernel.accessAllowed ? 'block' : 'none';\n",
              "\n",
              "      async function convertToInteractive(key) {\n",
              "        const element = document.querySelector('#df-eb620842-af58-41c1-b18e-1cbdbfcdba50');\n",
              "        const dataTable =\n",
              "          await google.colab.kernel.invokeFunction('convertToInteractive',\n",
              "                                                    [key], {});\n",
              "        if (!dataTable) return;\n",
              "\n",
              "        const docLinkHtml = 'Like what you see? Visit the ' +\n",
              "          '<a target=\"_blank\" href=https://colab.research.google.com/notebooks/data_table.ipynb>data table notebook</a>'\n",
              "          + ' to learn more about interactive tables.';\n",
              "        element.innerHTML = '';\n",
              "        dataTable['output_type'] = 'display_data';\n",
              "        await google.colab.output.renderOutput(dataTable, element);\n",
              "        const docLink = document.createElement('div');\n",
              "        docLink.innerHTML = docLinkHtml;\n",
              "        element.appendChild(docLink);\n",
              "      }\n",
              "    </script>\n",
              "  </div>\n",
              "\n",
              "\n",
              "<div id=\"df-d15a8edf-19ac-41af-a3b0-f1dd3ce29fbb\">\n",
              "  <button class=\"colab-df-quickchart\" onclick=\"quickchart('df-d15a8edf-19ac-41af-a3b0-f1dd3ce29fbb')\"\n",
              "            title=\"Suggest charts\"\n",
              "            style=\"display:none;\">\n",
              "\n",
              "<svg xmlns=\"http://www.w3.org/2000/svg\" height=\"24px\"viewBox=\"0 0 24 24\"\n",
              "     width=\"24px\">\n",
              "    <g>\n",
              "        <path d=\"M19 3H5c-1.1 0-2 .9-2 2v14c0 1.1.9 2 2 2h14c1.1 0 2-.9 2-2V5c0-1.1-.9-2-2-2zM9 17H7v-7h2v7zm4 0h-2V7h2v10zm4 0h-2v-4h2v4z\"/>\n",
              "    </g>\n",
              "</svg>\n",
              "  </button>\n",
              "\n",
              "<style>\n",
              "  .colab-df-quickchart {\n",
              "      --bg-color: #E8F0FE;\n",
              "      --fill-color: #1967D2;\n",
              "      --hover-bg-color: #E2EBFA;\n",
              "      --hover-fill-color: #174EA6;\n",
              "      --disabled-fill-color: #AAA;\n",
              "      --disabled-bg-color: #DDD;\n",
              "  }\n",
              "\n",
              "  [theme=dark] .colab-df-quickchart {\n",
              "      --bg-color: #3B4455;\n",
              "      --fill-color: #D2E3FC;\n",
              "      --hover-bg-color: #434B5C;\n",
              "      --hover-fill-color: #FFFFFF;\n",
              "      --disabled-bg-color: #3B4455;\n",
              "      --disabled-fill-color: #666;\n",
              "  }\n",
              "\n",
              "  .colab-df-quickchart {\n",
              "    background-color: var(--bg-color);\n",
              "    border: none;\n",
              "    border-radius: 50%;\n",
              "    cursor: pointer;\n",
              "    display: none;\n",
              "    fill: var(--fill-color);\n",
              "    height: 32px;\n",
              "    padding: 0;\n",
              "    width: 32px;\n",
              "  }\n",
              "\n",
              "  .colab-df-quickchart:hover {\n",
              "    background-color: var(--hover-bg-color);\n",
              "    box-shadow: 0 1px 2px rgba(60, 64, 67, 0.3), 0 1px 3px 1px rgba(60, 64, 67, 0.15);\n",
              "    fill: var(--button-hover-fill-color);\n",
              "  }\n",
              "\n",
              "  .colab-df-quickchart-complete:disabled,\n",
              "  .colab-df-quickchart-complete:disabled:hover {\n",
              "    background-color: var(--disabled-bg-color);\n",
              "    fill: var(--disabled-fill-color);\n",
              "    box-shadow: none;\n",
              "  }\n",
              "\n",
              "  .colab-df-spinner {\n",
              "    border: 2px solid var(--fill-color);\n",
              "    border-color: transparent;\n",
              "    border-bottom-color: var(--fill-color);\n",
              "    animation:\n",
              "      spin 1s steps(1) infinite;\n",
              "  }\n",
              "\n",
              "  @keyframes spin {\n",
              "    0% {\n",
              "      border-color: transparent;\n",
              "      border-bottom-color: var(--fill-color);\n",
              "      border-left-color: var(--fill-color);\n",
              "    }\n",
              "    20% {\n",
              "      border-color: transparent;\n",
              "      border-left-color: var(--fill-color);\n",
              "      border-top-color: var(--fill-color);\n",
              "    }\n",
              "    30% {\n",
              "      border-color: transparent;\n",
              "      border-left-color: var(--fill-color);\n",
              "      border-top-color: var(--fill-color);\n",
              "      border-right-color: var(--fill-color);\n",
              "    }\n",
              "    40% {\n",
              "      border-color: transparent;\n",
              "      border-right-color: var(--fill-color);\n",
              "      border-top-color: var(--fill-color);\n",
              "    }\n",
              "    60% {\n",
              "      border-color: transparent;\n",
              "      border-right-color: var(--fill-color);\n",
              "    }\n",
              "    80% {\n",
              "      border-color: transparent;\n",
              "      border-right-color: var(--fill-color);\n",
              "      border-bottom-color: var(--fill-color);\n",
              "    }\n",
              "    90% {\n",
              "      border-color: transparent;\n",
              "      border-bottom-color: var(--fill-color);\n",
              "    }\n",
              "  }\n",
              "</style>\n",
              "\n",
              "  <script>\n",
              "    async function quickchart(key) {\n",
              "      const quickchartButtonEl =\n",
              "        document.querySelector('#' + key + ' button');\n",
              "      quickchartButtonEl.disabled = true;  // To prevent multiple clicks.\n",
              "      quickchartButtonEl.classList.add('colab-df-spinner');\n",
              "      try {\n",
              "        const charts = await google.colab.kernel.invokeFunction(\n",
              "            'suggestCharts', [key], {});\n",
              "      } catch (error) {\n",
              "        console.error('Error during call to suggestCharts:', error);\n",
              "      }\n",
              "      quickchartButtonEl.classList.remove('colab-df-spinner');\n",
              "      quickchartButtonEl.classList.add('colab-df-quickchart-complete');\n",
              "    }\n",
              "    (() => {\n",
              "      let quickchartButtonEl =\n",
              "        document.querySelector('#df-d15a8edf-19ac-41af-a3b0-f1dd3ce29fbb button');\n",
              "      quickchartButtonEl.style.display =\n",
              "        google.colab.kernel.accessAllowed ? 'block' : 'none';\n",
              "    })();\n",
              "  </script>\n",
              "</div>\n",
              "    </div>\n",
              "  </div>\n"
            ],
            "application/vnd.google.colaboratory.intrinsic+json": {
              "type": "dataframe",
              "variable_name": "data",
              "summary": "{\n  \"name\": \"data\",\n  \"rows\": 4966,\n  \"fields\": [\n    {\n      \"column\": \"transcription\",\n      \"properties\": {\n        \"dtype\": \"category\",\n        \"num_unique_values\": 2355,\n        \"samples\": [\n          \"REASON FOR VISIT This is a new patient evaluation for Mr A There is a malignant meningioma He is referred by Dr X HISTORY OF PRESENT ILLNESS He said he has had two surgeries in   followed by radiation and then again in   He then had a problem with seizures hemiparesis has been to the hospital developed C diff and is in the nursing home currently He is unable to stand at the moment He is unable to care for himself I reviewed the information that was sent down with him from the nursing home which includes his medical history MEDICATIONS Keppra  twice a day and Decadron  mg four times a day His other medicines include oxycodone an aspirin a day Prilosec Dilantin  a day and Flagyl FINDINGS On examination he is lying on the stretcher He has oxygen on and has periods of spontaneous hyperventilation He is unable to lift his right arm or right leg He has an expressive dysphasia and confusion I reviewed the imaging studies from summer from the beginning of   end of   as well as the current MRI he had last week This shows that he has had progression of disease with recurrence along the surface of the brain and there is significant brain edema This is a malignant meningioma by diagnosis ASSESSMENT PLAN In summary Mr A has significant disability and is not independent currently I believe that because of this that the likelihood of benefit from surgery is small and there is a very good chance that he would not be able to recover from surgery I do not think that surgery will help his quality of life and a need to control the tumor would be dependent on another therapy impacting the tumor Given that there are not good therapies and chemotherapy would be the option at the moment and he certainly is not in a condition where chemotherapy would be given I believe that surgery would not be in his best interest I discussed this both with him although it is not clear to me how much he understood as well as his family\",\n          \"NAME OF PROCEDURE Left heart catheterization with ventriculography selective coronary angiography INDICATIONS Acute coronary syndrome TECHNIQUE OF PROCEDURE Standard Judkins right groin Catheters used were a  French pigtail  French JL  French JR ANTICOAGULATION The patient was on heparin at the time COMPLICATIONS None I reviewed with the patient the pros cons alternatives risks of catheterization and sedation including myocardial infarction stroke death damage to nerve artery or vein in the leg perforation of a cardiac chamber dissection of an artery requiring countershock infection bleeding ATN allergy need for cardiac surgery All questions were answered and the patient desired to proceed HEMODYNAMIC DATA Aortic pressure was in the physiologic range No significant gradient across the aortic valve ANGIOGRAPHIC DATA  Ventriculogram The left ventricle is of normal size and shape normal wall motion normal ejection fraction  Right coronary artery Dominant There was insignificant disease in the system  Left coronary Left main left anterior descending and circumflex systems showed no significant disease CONCLUSIONS  Normal left ventricular systolic function  Insignificant coronary disease PLAN Based upon this study medical therapy is warranted Six French Angio Seal was used in the groin\",\n          \"PROCEDURE Gastroscopy PREOPERATIVE DIAGNOSES Dysphagia possible stricture POSTOPERATIVE DIAGNOSIS Gastroparesis MEDICATION MAC DESCRIPTION OF PROCEDURE The Olympus gastroscope was introduced into the hypopharynx and passed carefully through the esophagus stomach and duodenum The hypopharynx was normal The esophagus had a normal upper esophageal sphincter normal contour throughout and a normal gastroesophageal junction viewed at  cm from the incisors There was no evidence of stricturing or extrinsic narrowing from her previous hiatal hernia repair There was no sign of reflux esophagitis On entering the gastric lumen a large bezoar of undigested food was seen occupying much of the gastric fundus and body It had  to  mm diameter This was broken up using a scope into smaller pieces There was no retained gastric liquid The antrum appeared normal and the pylorus was patent The scope passed easily into the duodenum which was normal through the second portion On withdrawal of the scope additional views of the cardia were obtained and there was no evidence of any tumor or narrowing The scope was withdrawn The patient tolerated the procedure well and was sent to the recovery room FINAL DIAGNOSES  Normal postoperative hernia repair  Retained gastric contents forming a partial bezoar suggestive of gastroparesis  Otherwise normal upper endoscopy to the descending duodenum RECOMMENDATIONS  Continue proton pump inhibitors  Use Reglan  mg three to four times a day\"\n        ],\n        \"semantic_type\": \"\",\n        \"description\": \"\"\n      }\n    },\n    {\n      \"column\": \"medical_specialty\",\n      \"properties\": {\n        \"dtype\": \"category\",\n        \"num_unique_values\": 40,\n        \"samples\": [\n          \" Ophthalmology\",\n          \" Pediatrics - Neonatal\",\n          \" Physical Medicine - Rehab\"\n        ],\n        \"semantic_type\": \"\",\n        \"description\": \"\"\n      }\n    },\n    {\n      \"column\": \"tokens\",\n      \"properties\": {\n        \"dtype\": \"object\",\n        \"semantic_type\": \"\",\n        \"description\": \"\"\n      }\n    }\n  ]\n}"
            }
          },
          "metadata": {},
          "execution_count": 88
        }
      ]
    },
    {
      "cell_type": "code",
      "source": [
        "import pandas as pd\n",
        "from nltk.tokenize import WhitespaceTokenizer\n",
        "\n",
        "def tokenise_text_column(data_frame, column_name):\n",
        "    \"\"\"\n",
        "    Tokenizes the text in a specified column of a pandas DataFrame using whitespace\n",
        "    tokenizer and stores the tokenized lists in a new column named 'tokenised'.\n",
        "\n",
        "    Parameters:\n",
        "    - data_frame (pd.DataFrame): The DataFrame containing the text data to be tokenized.\n",
        "    - column_name (str): The name of the column containing text data to tokenize.\n",
        "\n",
        "    Returns:\n",
        "    - pd.DataFrame: A copy of the DataFrame with an additional column 'tokenised' that contains\n",
        "                    the tokenized lists of the specified text column.\n",
        "    \"\"\"\n",
        "    # Ensure a copy of the DataFrame is made to avoid modifying the original\n",
        "    df_copy = data_frame.copy()\n",
        "\n",
        "    # Initialize the WhitespaceTokenizer\n",
        "    tokenizer = WhitespaceTokenizer()\n",
        "\n",
        "    # Tokenize the specified column and store the results in a new column 'tokenised'\n",
        "    df_copy['tokenised'] = df_copy.apply(lambda row: tokenizer.tokenize(str(row[column_name])), axis=1)\n",
        "\n",
        "    return df_copy"
      ],
      "metadata": {
        "id": "-SbELLqZMyKI"
      },
      "execution_count": null,
      "outputs": []
    },
    {
      "cell_type": "code",
      "source": [
        "\n",
        "# Example usage:\n",
        "# Assuming 'df' is your DataFrame and 'transcription' is the column you want to tokenize:\n",
        "data = tokenise_text_column(data, 'transcription')\n",
        "data.head(3)"
      ],
      "metadata": {
        "colab": {
          "base_uri": "https://localhost:8080/",
          "height": 196
        },
        "id": "H6o8giUYpejM",
        "outputId": "8af0d388-4d13-454f-a2f0-2b0048ee6e66"
      },
      "execution_count": null,
      "outputs": [
        {
          "output_type": "execute_result",
          "data": {
            "text/plain": [
              "                                       transcription      medical_specialty  \\\n",
              "0  SUBJECTIVE This  year old white female present...   Allergy / Immunology   \n",
              "1  PAST MEDICAL HISTORY He has difficulty climbin...             Bariatrics   \n",
              "2  HISTORY OF PRESENT ILLNESS I have seen ABC tod...             Bariatrics   \n",
              "\n",
              "                                              tokens  \\\n",
              "0  [subjective, :, ,, this, 23-year-old, white, f...   \n",
              "1  [past, medical, history, :, ,, he, has, diffic...   \n",
              "2  [history, of, present, illness, :, ,, i, have,...   \n",
              "\n",
              "                                           tokenised  \n",
              "0  [SUBJECTIVE, This, year, old, white, female, p...  \n",
              "1  [PAST, MEDICAL, HISTORY, He, has, difficulty, ...  \n",
              "2  [HISTORY, OF, PRESENT, ILLNESS, I, have, seen,...  "
            ],
            "text/html": [
              "\n",
              "  <div id=\"df-0f843cb0-034c-481a-b79e-a3e763d0f916\" class=\"colab-df-container\">\n",
              "    <div>\n",
              "<style scoped>\n",
              "    .dataframe tbody tr th:only-of-type {\n",
              "        vertical-align: middle;\n",
              "    }\n",
              "\n",
              "    .dataframe tbody tr th {\n",
              "        vertical-align: top;\n",
              "    }\n",
              "\n",
              "    .dataframe thead th {\n",
              "        text-align: right;\n",
              "    }\n",
              "</style>\n",
              "<table border=\"1\" class=\"dataframe\">\n",
              "  <thead>\n",
              "    <tr style=\"text-align: right;\">\n",
              "      <th></th>\n",
              "      <th>transcription</th>\n",
              "      <th>medical_specialty</th>\n",
              "      <th>tokens</th>\n",
              "      <th>tokenised</th>\n",
              "    </tr>\n",
              "  </thead>\n",
              "  <tbody>\n",
              "    <tr>\n",
              "      <th>0</th>\n",
              "      <td>SUBJECTIVE This  year old white female present...</td>\n",
              "      <td>Allergy / Immunology</td>\n",
              "      <td>[subjective, :, ,, this, 23-year-old, white, f...</td>\n",
              "      <td>[SUBJECTIVE, This, year, old, white, female, p...</td>\n",
              "    </tr>\n",
              "    <tr>\n",
              "      <th>1</th>\n",
              "      <td>PAST MEDICAL HISTORY He has difficulty climbin...</td>\n",
              "      <td>Bariatrics</td>\n",
              "      <td>[past, medical, history, :, ,, he, has, diffic...</td>\n",
              "      <td>[PAST, MEDICAL, HISTORY, He, has, difficulty, ...</td>\n",
              "    </tr>\n",
              "    <tr>\n",
              "      <th>2</th>\n",
              "      <td>HISTORY OF PRESENT ILLNESS I have seen ABC tod...</td>\n",
              "      <td>Bariatrics</td>\n",
              "      <td>[history, of, present, illness, :, ,, i, have,...</td>\n",
              "      <td>[HISTORY, OF, PRESENT, ILLNESS, I, have, seen,...</td>\n",
              "    </tr>\n",
              "  </tbody>\n",
              "</table>\n",
              "</div>\n",
              "    <div class=\"colab-df-buttons\">\n",
              "\n",
              "  <div class=\"colab-df-container\">\n",
              "    <button class=\"colab-df-convert\" onclick=\"convertToInteractive('df-0f843cb0-034c-481a-b79e-a3e763d0f916')\"\n",
              "            title=\"Convert this dataframe to an interactive table.\"\n",
              "            style=\"display:none;\">\n",
              "\n",
              "  <svg xmlns=\"http://www.w3.org/2000/svg\" height=\"24px\" viewBox=\"0 -960 960 960\">\n",
              "    <path d=\"M120-120v-720h720v720H120Zm60-500h600v-160H180v160Zm220 220h160v-160H400v160Zm0 220h160v-160H400v160ZM180-400h160v-160H180v160Zm440 0h160v-160H620v160ZM180-180h160v-160H180v160Zm440 0h160v-160H620v160Z\"/>\n",
              "  </svg>\n",
              "    </button>\n",
              "\n",
              "  <style>\n",
              "    .colab-df-container {\n",
              "      display:flex;\n",
              "      gap: 12px;\n",
              "    }\n",
              "\n",
              "    .colab-df-convert {\n",
              "      background-color: #E8F0FE;\n",
              "      border: none;\n",
              "      border-radius: 50%;\n",
              "      cursor: pointer;\n",
              "      display: none;\n",
              "      fill: #1967D2;\n",
              "      height: 32px;\n",
              "      padding: 0 0 0 0;\n",
              "      width: 32px;\n",
              "    }\n",
              "\n",
              "    .colab-df-convert:hover {\n",
              "      background-color: #E2EBFA;\n",
              "      box-shadow: 0px 1px 2px rgba(60, 64, 67, 0.3), 0px 1px 3px 1px rgba(60, 64, 67, 0.15);\n",
              "      fill: #174EA6;\n",
              "    }\n",
              "\n",
              "    .colab-df-buttons div {\n",
              "      margin-bottom: 4px;\n",
              "    }\n",
              "\n",
              "    [theme=dark] .colab-df-convert {\n",
              "      background-color: #3B4455;\n",
              "      fill: #D2E3FC;\n",
              "    }\n",
              "\n",
              "    [theme=dark] .colab-df-convert:hover {\n",
              "      background-color: #434B5C;\n",
              "      box-shadow: 0px 1px 3px 1px rgba(0, 0, 0, 0.15);\n",
              "      filter: drop-shadow(0px 1px 2px rgba(0, 0, 0, 0.3));\n",
              "      fill: #FFFFFF;\n",
              "    }\n",
              "  </style>\n",
              "\n",
              "    <script>\n",
              "      const buttonEl =\n",
              "        document.querySelector('#df-0f843cb0-034c-481a-b79e-a3e763d0f916 button.colab-df-convert');\n",
              "      buttonEl.style.display =\n",
              "        google.colab.kernel.accessAllowed ? 'block' : 'none';\n",
              "\n",
              "      async function convertToInteractive(key) {\n",
              "        const element = document.querySelector('#df-0f843cb0-034c-481a-b79e-a3e763d0f916');\n",
              "        const dataTable =\n",
              "          await google.colab.kernel.invokeFunction('convertToInteractive',\n",
              "                                                    [key], {});\n",
              "        if (!dataTable) return;\n",
              "\n",
              "        const docLinkHtml = 'Like what you see? Visit the ' +\n",
              "          '<a target=\"_blank\" href=https://colab.research.google.com/notebooks/data_table.ipynb>data table notebook</a>'\n",
              "          + ' to learn more about interactive tables.';\n",
              "        element.innerHTML = '';\n",
              "        dataTable['output_type'] = 'display_data';\n",
              "        await google.colab.output.renderOutput(dataTable, element);\n",
              "        const docLink = document.createElement('div');\n",
              "        docLink.innerHTML = docLinkHtml;\n",
              "        element.appendChild(docLink);\n",
              "      }\n",
              "    </script>\n",
              "  </div>\n",
              "\n",
              "\n",
              "<div id=\"df-b57c53ad-fdfb-47ec-a81a-49eda46efd7e\">\n",
              "  <button class=\"colab-df-quickchart\" onclick=\"quickchart('df-b57c53ad-fdfb-47ec-a81a-49eda46efd7e')\"\n",
              "            title=\"Suggest charts\"\n",
              "            style=\"display:none;\">\n",
              "\n",
              "<svg xmlns=\"http://www.w3.org/2000/svg\" height=\"24px\"viewBox=\"0 0 24 24\"\n",
              "     width=\"24px\">\n",
              "    <g>\n",
              "        <path d=\"M19 3H5c-1.1 0-2 .9-2 2v14c0 1.1.9 2 2 2h14c1.1 0 2-.9 2-2V5c0-1.1-.9-2-2-2zM9 17H7v-7h2v7zm4 0h-2V7h2v10zm4 0h-2v-4h2v4z\"/>\n",
              "    </g>\n",
              "</svg>\n",
              "  </button>\n",
              "\n",
              "<style>\n",
              "  .colab-df-quickchart {\n",
              "      --bg-color: #E8F0FE;\n",
              "      --fill-color: #1967D2;\n",
              "      --hover-bg-color: #E2EBFA;\n",
              "      --hover-fill-color: #174EA6;\n",
              "      --disabled-fill-color: #AAA;\n",
              "      --disabled-bg-color: #DDD;\n",
              "  }\n",
              "\n",
              "  [theme=dark] .colab-df-quickchart {\n",
              "      --bg-color: #3B4455;\n",
              "      --fill-color: #D2E3FC;\n",
              "      --hover-bg-color: #434B5C;\n",
              "      --hover-fill-color: #FFFFFF;\n",
              "      --disabled-bg-color: #3B4455;\n",
              "      --disabled-fill-color: #666;\n",
              "  }\n",
              "\n",
              "  .colab-df-quickchart {\n",
              "    background-color: var(--bg-color);\n",
              "    border: none;\n",
              "    border-radius: 50%;\n",
              "    cursor: pointer;\n",
              "    display: none;\n",
              "    fill: var(--fill-color);\n",
              "    height: 32px;\n",
              "    padding: 0;\n",
              "    width: 32px;\n",
              "  }\n",
              "\n",
              "  .colab-df-quickchart:hover {\n",
              "    background-color: var(--hover-bg-color);\n",
              "    box-shadow: 0 1px 2px rgba(60, 64, 67, 0.3), 0 1px 3px 1px rgba(60, 64, 67, 0.15);\n",
              "    fill: var(--button-hover-fill-color);\n",
              "  }\n",
              "\n",
              "  .colab-df-quickchart-complete:disabled,\n",
              "  .colab-df-quickchart-complete:disabled:hover {\n",
              "    background-color: var(--disabled-bg-color);\n",
              "    fill: var(--disabled-fill-color);\n",
              "    box-shadow: none;\n",
              "  }\n",
              "\n",
              "  .colab-df-spinner {\n",
              "    border: 2px solid var(--fill-color);\n",
              "    border-color: transparent;\n",
              "    border-bottom-color: var(--fill-color);\n",
              "    animation:\n",
              "      spin 1s steps(1) infinite;\n",
              "  }\n",
              "\n",
              "  @keyframes spin {\n",
              "    0% {\n",
              "      border-color: transparent;\n",
              "      border-bottom-color: var(--fill-color);\n",
              "      border-left-color: var(--fill-color);\n",
              "    }\n",
              "    20% {\n",
              "      border-color: transparent;\n",
              "      border-left-color: var(--fill-color);\n",
              "      border-top-color: var(--fill-color);\n",
              "    }\n",
              "    30% {\n",
              "      border-color: transparent;\n",
              "      border-left-color: var(--fill-color);\n",
              "      border-top-color: var(--fill-color);\n",
              "      border-right-color: var(--fill-color);\n",
              "    }\n",
              "    40% {\n",
              "      border-color: transparent;\n",
              "      border-right-color: var(--fill-color);\n",
              "      border-top-color: var(--fill-color);\n",
              "    }\n",
              "    60% {\n",
              "      border-color: transparent;\n",
              "      border-right-color: var(--fill-color);\n",
              "    }\n",
              "    80% {\n",
              "      border-color: transparent;\n",
              "      border-right-color: var(--fill-color);\n",
              "      border-bottom-color: var(--fill-color);\n",
              "    }\n",
              "    90% {\n",
              "      border-color: transparent;\n",
              "      border-bottom-color: var(--fill-color);\n",
              "    }\n",
              "  }\n",
              "</style>\n",
              "\n",
              "  <script>\n",
              "    async function quickchart(key) {\n",
              "      const quickchartButtonEl =\n",
              "        document.querySelector('#' + key + ' button');\n",
              "      quickchartButtonEl.disabled = true;  // To prevent multiple clicks.\n",
              "      quickchartButtonEl.classList.add('colab-df-spinner');\n",
              "      try {\n",
              "        const charts = await google.colab.kernel.invokeFunction(\n",
              "            'suggestCharts', [key], {});\n",
              "      } catch (error) {\n",
              "        console.error('Error during call to suggestCharts:', error);\n",
              "      }\n",
              "      quickchartButtonEl.classList.remove('colab-df-spinner');\n",
              "      quickchartButtonEl.classList.add('colab-df-quickchart-complete');\n",
              "    }\n",
              "    (() => {\n",
              "      let quickchartButtonEl =\n",
              "        document.querySelector('#df-b57c53ad-fdfb-47ec-a81a-49eda46efd7e button');\n",
              "      quickchartButtonEl.style.display =\n",
              "        google.colab.kernel.accessAllowed ? 'block' : 'none';\n",
              "    })();\n",
              "  </script>\n",
              "</div>\n",
              "    </div>\n",
              "  </div>\n"
            ],
            "application/vnd.google.colaboratory.intrinsic+json": {
              "type": "dataframe",
              "variable_name": "data",
              "summary": "{\n  \"name\": \"data\",\n  \"rows\": 4966,\n  \"fields\": [\n    {\n      \"column\": \"transcription\",\n      \"properties\": {\n        \"dtype\": \"category\",\n        \"num_unique_values\": 2355,\n        \"samples\": [\n          \"REASON FOR VISIT This is a new patient evaluation for Mr A There is a malignant meningioma He is referred by Dr X HISTORY OF PRESENT ILLNESS He said he has had two surgeries in   followed by radiation and then again in   He then had a problem with seizures hemiparesis has been to the hospital developed C diff and is in the nursing home currently He is unable to stand at the moment He is unable to care for himself I reviewed the information that was sent down with him from the nursing home which includes his medical history MEDICATIONS Keppra  twice a day and Decadron  mg four times a day His other medicines include oxycodone an aspirin a day Prilosec Dilantin  a day and Flagyl FINDINGS On examination he is lying on the stretcher He has oxygen on and has periods of spontaneous hyperventilation He is unable to lift his right arm or right leg He has an expressive dysphasia and confusion I reviewed the imaging studies from summer from the beginning of   end of   as well as the current MRI he had last week This shows that he has had progression of disease with recurrence along the surface of the brain and there is significant brain edema This is a malignant meningioma by diagnosis ASSESSMENT PLAN In summary Mr A has significant disability and is not independent currently I believe that because of this that the likelihood of benefit from surgery is small and there is a very good chance that he would not be able to recover from surgery I do not think that surgery will help his quality of life and a need to control the tumor would be dependent on another therapy impacting the tumor Given that there are not good therapies and chemotherapy would be the option at the moment and he certainly is not in a condition where chemotherapy would be given I believe that surgery would not be in his best interest I discussed this both with him although it is not clear to me how much he understood as well as his family\",\n          \"NAME OF PROCEDURE Left heart catheterization with ventriculography selective coronary angiography INDICATIONS Acute coronary syndrome TECHNIQUE OF PROCEDURE Standard Judkins right groin Catheters used were a  French pigtail  French JL  French JR ANTICOAGULATION The patient was on heparin at the time COMPLICATIONS None I reviewed with the patient the pros cons alternatives risks of catheterization and sedation including myocardial infarction stroke death damage to nerve artery or vein in the leg perforation of a cardiac chamber dissection of an artery requiring countershock infection bleeding ATN allergy need for cardiac surgery All questions were answered and the patient desired to proceed HEMODYNAMIC DATA Aortic pressure was in the physiologic range No significant gradient across the aortic valve ANGIOGRAPHIC DATA  Ventriculogram The left ventricle is of normal size and shape normal wall motion normal ejection fraction  Right coronary artery Dominant There was insignificant disease in the system  Left coronary Left main left anterior descending and circumflex systems showed no significant disease CONCLUSIONS  Normal left ventricular systolic function  Insignificant coronary disease PLAN Based upon this study medical therapy is warranted Six French Angio Seal was used in the groin\",\n          \"PROCEDURE Gastroscopy PREOPERATIVE DIAGNOSES Dysphagia possible stricture POSTOPERATIVE DIAGNOSIS Gastroparesis MEDICATION MAC DESCRIPTION OF PROCEDURE The Olympus gastroscope was introduced into the hypopharynx and passed carefully through the esophagus stomach and duodenum The hypopharynx was normal The esophagus had a normal upper esophageal sphincter normal contour throughout and a normal gastroesophageal junction viewed at  cm from the incisors There was no evidence of stricturing or extrinsic narrowing from her previous hiatal hernia repair There was no sign of reflux esophagitis On entering the gastric lumen a large bezoar of undigested food was seen occupying much of the gastric fundus and body It had  to  mm diameter This was broken up using a scope into smaller pieces There was no retained gastric liquid The antrum appeared normal and the pylorus was patent The scope passed easily into the duodenum which was normal through the second portion On withdrawal of the scope additional views of the cardia were obtained and there was no evidence of any tumor or narrowing The scope was withdrawn The patient tolerated the procedure well and was sent to the recovery room FINAL DIAGNOSES  Normal postoperative hernia repair  Retained gastric contents forming a partial bezoar suggestive of gastroparesis  Otherwise normal upper endoscopy to the descending duodenum RECOMMENDATIONS  Continue proton pump inhibitors  Use Reglan  mg three to four times a day\"\n        ],\n        \"semantic_type\": \"\",\n        \"description\": \"\"\n      }\n    },\n    {\n      \"column\": \"medical_specialty\",\n      \"properties\": {\n        \"dtype\": \"category\",\n        \"num_unique_values\": 40,\n        \"samples\": [\n          \" Ophthalmology\",\n          \" Pediatrics - Neonatal\",\n          \" Physical Medicine - Rehab\"\n        ],\n        \"semantic_type\": \"\",\n        \"description\": \"\"\n      }\n    },\n    {\n      \"column\": \"tokens\",\n      \"properties\": {\n        \"dtype\": \"object\",\n        \"semantic_type\": \"\",\n        \"description\": \"\"\n      }\n    },\n    {\n      \"column\": \"tokenised\",\n      \"properties\": {\n        \"dtype\": \"object\",\n        \"semantic_type\": \"\",\n        \"description\": \"\"\n      }\n    }\n  ]\n}"
            }
          },
          "metadata": {},
          "execution_count": 90
        }
      ]
    },
    {
      "cell_type": "markdown",
      "source": [
        "#### Remove Stopwords, as we need to retrain the PII redaction models to recognize the sensitive (non) PII tokens"
      ],
      "metadata": {
        "id": "W5cvNaTirfhG"
      }
    },
    {
      "cell_type": "code",
      "source": [
        "nltk.download('stopwords')"
      ],
      "metadata": {
        "colab": {
          "base_uri": "https://localhost:8080/"
        },
        "id": "0loC34mzsuMG",
        "outputId": "f23da560-faf7-4e74-9b15-e3fd2e7a1e0a"
      },
      "execution_count": null,
      "outputs": [
        {
          "output_type": "stream",
          "name": "stderr",
          "text": [
            "[nltk_data] Downloading package stopwords to /root/nltk_data...\n",
            "[nltk_data]   Unzipping corpora/stopwords.zip.\n"
          ]
        },
        {
          "output_type": "execute_result",
          "data": {
            "text/plain": [
              "True"
            ]
          },
          "metadata": {},
          "execution_count": 95
        }
      ]
    },
    {
      "cell_type": "code",
      "source": [
        "# Removing stop words\n",
        "def remove_stop_words(df, attribute):\n",
        "    stop = stopwords.words('english')\n",
        "    df['stemmed_without_stop'] = df[attribute].apply(lambda x: ' '.join([word for word in x if word not in (stop)]))\n",
        "    return df"
      ],
      "metadata": {
        "id": "T0YfmSjqrog-"
      },
      "execution_count": null,
      "outputs": []
    },
    {
      "cell_type": "code",
      "source": [
        "data = remove_stop_words(data, 'tokenised')\n",
        "data.head(2)"
      ],
      "metadata": {
        "colab": {
          "base_uri": "https://localhost:8080/",
          "height": 182
        },
        "id": "wTfWSzMOreo5",
        "outputId": "04b8cbf5-0a97-4d1a-a332-a9b9a6cd7b74"
      },
      "execution_count": null,
      "outputs": [
        {
          "output_type": "execute_result",
          "data": {
            "text/plain": [
              "                                       transcription      medical_specialty  \\\n",
              "0  SUBJECTIVE This  year old white female present...   Allergy / Immunology   \n",
              "1  PAST MEDICAL HISTORY He has difficulty climbin...             Bariatrics   \n",
              "\n",
              "                                              tokens  \\\n",
              "0  [subjective, :, ,, this, 23-year-old, white, f...   \n",
              "1  [past, medical, history, :, ,, he, has, diffic...   \n",
              "\n",
              "                                           tokenised  \\\n",
              "0  [SUBJECTIVE, This, year, old, white, female, p...   \n",
              "1  [PAST, MEDICAL, HISTORY, He, has, difficulty, ...   \n",
              "\n",
              "                                stemmed_without_stop  \n",
              "0  SUBJECTIVE This year old white female presents...  \n",
              "1  PAST MEDICAL HISTORY He difficulty climbing st...  "
            ],
            "text/html": [
              "\n",
              "  <div id=\"df-1367a50f-790d-4d0c-8e7e-bee103b1a1ff\" class=\"colab-df-container\">\n",
              "    <div>\n",
              "<style scoped>\n",
              "    .dataframe tbody tr th:only-of-type {\n",
              "        vertical-align: middle;\n",
              "    }\n",
              "\n",
              "    .dataframe tbody tr th {\n",
              "        vertical-align: top;\n",
              "    }\n",
              "\n",
              "    .dataframe thead th {\n",
              "        text-align: right;\n",
              "    }\n",
              "</style>\n",
              "<table border=\"1\" class=\"dataframe\">\n",
              "  <thead>\n",
              "    <tr style=\"text-align: right;\">\n",
              "      <th></th>\n",
              "      <th>transcription</th>\n",
              "      <th>medical_specialty</th>\n",
              "      <th>tokens</th>\n",
              "      <th>tokenised</th>\n",
              "      <th>stemmed_without_stop</th>\n",
              "    </tr>\n",
              "  </thead>\n",
              "  <tbody>\n",
              "    <tr>\n",
              "      <th>0</th>\n",
              "      <td>SUBJECTIVE This  year old white female present...</td>\n",
              "      <td>Allergy / Immunology</td>\n",
              "      <td>[subjective, :, ,, this, 23-year-old, white, f...</td>\n",
              "      <td>[SUBJECTIVE, This, year, old, white, female, p...</td>\n",
              "      <td>SUBJECTIVE This year old white female presents...</td>\n",
              "    </tr>\n",
              "    <tr>\n",
              "      <th>1</th>\n",
              "      <td>PAST MEDICAL HISTORY He has difficulty climbin...</td>\n",
              "      <td>Bariatrics</td>\n",
              "      <td>[past, medical, history, :, ,, he, has, diffic...</td>\n",
              "      <td>[PAST, MEDICAL, HISTORY, He, has, difficulty, ...</td>\n",
              "      <td>PAST MEDICAL HISTORY He difficulty climbing st...</td>\n",
              "    </tr>\n",
              "  </tbody>\n",
              "</table>\n",
              "</div>\n",
              "    <div class=\"colab-df-buttons\">\n",
              "\n",
              "  <div class=\"colab-df-container\">\n",
              "    <button class=\"colab-df-convert\" onclick=\"convertToInteractive('df-1367a50f-790d-4d0c-8e7e-bee103b1a1ff')\"\n",
              "            title=\"Convert this dataframe to an interactive table.\"\n",
              "            style=\"display:none;\">\n",
              "\n",
              "  <svg xmlns=\"http://www.w3.org/2000/svg\" height=\"24px\" viewBox=\"0 -960 960 960\">\n",
              "    <path d=\"M120-120v-720h720v720H120Zm60-500h600v-160H180v160Zm220 220h160v-160H400v160Zm0 220h160v-160H400v160ZM180-400h160v-160H180v160Zm440 0h160v-160H620v160ZM180-180h160v-160H180v160Zm440 0h160v-160H620v160Z\"/>\n",
              "  </svg>\n",
              "    </button>\n",
              "\n",
              "  <style>\n",
              "    .colab-df-container {\n",
              "      display:flex;\n",
              "      gap: 12px;\n",
              "    }\n",
              "\n",
              "    .colab-df-convert {\n",
              "      background-color: #E8F0FE;\n",
              "      border: none;\n",
              "      border-radius: 50%;\n",
              "      cursor: pointer;\n",
              "      display: none;\n",
              "      fill: #1967D2;\n",
              "      height: 32px;\n",
              "      padding: 0 0 0 0;\n",
              "      width: 32px;\n",
              "    }\n",
              "\n",
              "    .colab-df-convert:hover {\n",
              "      background-color: #E2EBFA;\n",
              "      box-shadow: 0px 1px 2px rgba(60, 64, 67, 0.3), 0px 1px 3px 1px rgba(60, 64, 67, 0.15);\n",
              "      fill: #174EA6;\n",
              "    }\n",
              "\n",
              "    .colab-df-buttons div {\n",
              "      margin-bottom: 4px;\n",
              "    }\n",
              "\n",
              "    [theme=dark] .colab-df-convert {\n",
              "      background-color: #3B4455;\n",
              "      fill: #D2E3FC;\n",
              "    }\n",
              "\n",
              "    [theme=dark] .colab-df-convert:hover {\n",
              "      background-color: #434B5C;\n",
              "      box-shadow: 0px 1px 3px 1px rgba(0, 0, 0, 0.15);\n",
              "      filter: drop-shadow(0px 1px 2px rgba(0, 0, 0, 0.3));\n",
              "      fill: #FFFFFF;\n",
              "    }\n",
              "  </style>\n",
              "\n",
              "    <script>\n",
              "      const buttonEl =\n",
              "        document.querySelector('#df-1367a50f-790d-4d0c-8e7e-bee103b1a1ff button.colab-df-convert');\n",
              "      buttonEl.style.display =\n",
              "        google.colab.kernel.accessAllowed ? 'block' : 'none';\n",
              "\n",
              "      async function convertToInteractive(key) {\n",
              "        const element = document.querySelector('#df-1367a50f-790d-4d0c-8e7e-bee103b1a1ff');\n",
              "        const dataTable =\n",
              "          await google.colab.kernel.invokeFunction('convertToInteractive',\n",
              "                                                    [key], {});\n",
              "        if (!dataTable) return;\n",
              "\n",
              "        const docLinkHtml = 'Like what you see? Visit the ' +\n",
              "          '<a target=\"_blank\" href=https://colab.research.google.com/notebooks/data_table.ipynb>data table notebook</a>'\n",
              "          + ' to learn more about interactive tables.';\n",
              "        element.innerHTML = '';\n",
              "        dataTable['output_type'] = 'display_data';\n",
              "        await google.colab.output.renderOutput(dataTable, element);\n",
              "        const docLink = document.createElement('div');\n",
              "        docLink.innerHTML = docLinkHtml;\n",
              "        element.appendChild(docLink);\n",
              "      }\n",
              "    </script>\n",
              "  </div>\n",
              "\n",
              "\n",
              "<div id=\"df-c49ca44c-4c64-4359-a0ef-d708327856b1\">\n",
              "  <button class=\"colab-df-quickchart\" onclick=\"quickchart('df-c49ca44c-4c64-4359-a0ef-d708327856b1')\"\n",
              "            title=\"Suggest charts\"\n",
              "            style=\"display:none;\">\n",
              "\n",
              "<svg xmlns=\"http://www.w3.org/2000/svg\" height=\"24px\"viewBox=\"0 0 24 24\"\n",
              "     width=\"24px\">\n",
              "    <g>\n",
              "        <path d=\"M19 3H5c-1.1 0-2 .9-2 2v14c0 1.1.9 2 2 2h14c1.1 0 2-.9 2-2V5c0-1.1-.9-2-2-2zM9 17H7v-7h2v7zm4 0h-2V7h2v10zm4 0h-2v-4h2v4z\"/>\n",
              "    </g>\n",
              "</svg>\n",
              "  </button>\n",
              "\n",
              "<style>\n",
              "  .colab-df-quickchart {\n",
              "      --bg-color: #E8F0FE;\n",
              "      --fill-color: #1967D2;\n",
              "      --hover-bg-color: #E2EBFA;\n",
              "      --hover-fill-color: #174EA6;\n",
              "      --disabled-fill-color: #AAA;\n",
              "      --disabled-bg-color: #DDD;\n",
              "  }\n",
              "\n",
              "  [theme=dark] .colab-df-quickchart {\n",
              "      --bg-color: #3B4455;\n",
              "      --fill-color: #D2E3FC;\n",
              "      --hover-bg-color: #434B5C;\n",
              "      --hover-fill-color: #FFFFFF;\n",
              "      --disabled-bg-color: #3B4455;\n",
              "      --disabled-fill-color: #666;\n",
              "  }\n",
              "\n",
              "  .colab-df-quickchart {\n",
              "    background-color: var(--bg-color);\n",
              "    border: none;\n",
              "    border-radius: 50%;\n",
              "    cursor: pointer;\n",
              "    display: none;\n",
              "    fill: var(--fill-color);\n",
              "    height: 32px;\n",
              "    padding: 0;\n",
              "    width: 32px;\n",
              "  }\n",
              "\n",
              "  .colab-df-quickchart:hover {\n",
              "    background-color: var(--hover-bg-color);\n",
              "    box-shadow: 0 1px 2px rgba(60, 64, 67, 0.3), 0 1px 3px 1px rgba(60, 64, 67, 0.15);\n",
              "    fill: var(--button-hover-fill-color);\n",
              "  }\n",
              "\n",
              "  .colab-df-quickchart-complete:disabled,\n",
              "  .colab-df-quickchart-complete:disabled:hover {\n",
              "    background-color: var(--disabled-bg-color);\n",
              "    fill: var(--disabled-fill-color);\n",
              "    box-shadow: none;\n",
              "  }\n",
              "\n",
              "  .colab-df-spinner {\n",
              "    border: 2px solid var(--fill-color);\n",
              "    border-color: transparent;\n",
              "    border-bottom-color: var(--fill-color);\n",
              "    animation:\n",
              "      spin 1s steps(1) infinite;\n",
              "  }\n",
              "\n",
              "  @keyframes spin {\n",
              "    0% {\n",
              "      border-color: transparent;\n",
              "      border-bottom-color: var(--fill-color);\n",
              "      border-left-color: var(--fill-color);\n",
              "    }\n",
              "    20% {\n",
              "      border-color: transparent;\n",
              "      border-left-color: var(--fill-color);\n",
              "      border-top-color: var(--fill-color);\n",
              "    }\n",
              "    30% {\n",
              "      border-color: transparent;\n",
              "      border-left-color: var(--fill-color);\n",
              "      border-top-color: var(--fill-color);\n",
              "      border-right-color: var(--fill-color);\n",
              "    }\n",
              "    40% {\n",
              "      border-color: transparent;\n",
              "      border-right-color: var(--fill-color);\n",
              "      border-top-color: var(--fill-color);\n",
              "    }\n",
              "    60% {\n",
              "      border-color: transparent;\n",
              "      border-right-color: var(--fill-color);\n",
              "    }\n",
              "    80% {\n",
              "      border-color: transparent;\n",
              "      border-right-color: var(--fill-color);\n",
              "      border-bottom-color: var(--fill-color);\n",
              "    }\n",
              "    90% {\n",
              "      border-color: transparent;\n",
              "      border-bottom-color: var(--fill-color);\n",
              "    }\n",
              "  }\n",
              "</style>\n",
              "\n",
              "  <script>\n",
              "    async function quickchart(key) {\n",
              "      const quickchartButtonEl =\n",
              "        document.querySelector('#' + key + ' button');\n",
              "      quickchartButtonEl.disabled = true;  // To prevent multiple clicks.\n",
              "      quickchartButtonEl.classList.add('colab-df-spinner');\n",
              "      try {\n",
              "        const charts = await google.colab.kernel.invokeFunction(\n",
              "            'suggestCharts', [key], {});\n",
              "      } catch (error) {\n",
              "        console.error('Error during call to suggestCharts:', error);\n",
              "      }\n",
              "      quickchartButtonEl.classList.remove('colab-df-spinner');\n",
              "      quickchartButtonEl.classList.add('colab-df-quickchart-complete');\n",
              "    }\n",
              "    (() => {\n",
              "      let quickchartButtonEl =\n",
              "        document.querySelector('#df-c49ca44c-4c64-4359-a0ef-d708327856b1 button');\n",
              "      quickchartButtonEl.style.display =\n",
              "        google.colab.kernel.accessAllowed ? 'block' : 'none';\n",
              "    })();\n",
              "  </script>\n",
              "</div>\n",
              "    </div>\n",
              "  </div>\n"
            ],
            "application/vnd.google.colaboratory.intrinsic+json": {
              "type": "dataframe",
              "variable_name": "data",
              "summary": "{\n  \"name\": \"data\",\n  \"rows\": 4966,\n  \"fields\": [\n    {\n      \"column\": \"transcription\",\n      \"properties\": {\n        \"dtype\": \"category\",\n        \"num_unique_values\": 2355,\n        \"samples\": [\n          \"REASON FOR VISIT This is a new patient evaluation for Mr A There is a malignant meningioma He is referred by Dr X HISTORY OF PRESENT ILLNESS He said he has had two surgeries in   followed by radiation and then again in   He then had a problem with seizures hemiparesis has been to the hospital developed C diff and is in the nursing home currently He is unable to stand at the moment He is unable to care for himself I reviewed the information that was sent down with him from the nursing home which includes his medical history MEDICATIONS Keppra  twice a day and Decadron  mg four times a day His other medicines include oxycodone an aspirin a day Prilosec Dilantin  a day and Flagyl FINDINGS On examination he is lying on the stretcher He has oxygen on and has periods of spontaneous hyperventilation He is unable to lift his right arm or right leg He has an expressive dysphasia and confusion I reviewed the imaging studies from summer from the beginning of   end of   as well as the current MRI he had last week This shows that he has had progression of disease with recurrence along the surface of the brain and there is significant brain edema This is a malignant meningioma by diagnosis ASSESSMENT PLAN In summary Mr A has significant disability and is not independent currently I believe that because of this that the likelihood of benefit from surgery is small and there is a very good chance that he would not be able to recover from surgery I do not think that surgery will help his quality of life and a need to control the tumor would be dependent on another therapy impacting the tumor Given that there are not good therapies and chemotherapy would be the option at the moment and he certainly is not in a condition where chemotherapy would be given I believe that surgery would not be in his best interest I discussed this both with him although it is not clear to me how much he understood as well as his family\",\n          \"NAME OF PROCEDURE Left heart catheterization with ventriculography selective coronary angiography INDICATIONS Acute coronary syndrome TECHNIQUE OF PROCEDURE Standard Judkins right groin Catheters used were a  French pigtail  French JL  French JR ANTICOAGULATION The patient was on heparin at the time COMPLICATIONS None I reviewed with the patient the pros cons alternatives risks of catheterization and sedation including myocardial infarction stroke death damage to nerve artery or vein in the leg perforation of a cardiac chamber dissection of an artery requiring countershock infection bleeding ATN allergy need for cardiac surgery All questions were answered and the patient desired to proceed HEMODYNAMIC DATA Aortic pressure was in the physiologic range No significant gradient across the aortic valve ANGIOGRAPHIC DATA  Ventriculogram The left ventricle is of normal size and shape normal wall motion normal ejection fraction  Right coronary artery Dominant There was insignificant disease in the system  Left coronary Left main left anterior descending and circumflex systems showed no significant disease CONCLUSIONS  Normal left ventricular systolic function  Insignificant coronary disease PLAN Based upon this study medical therapy is warranted Six French Angio Seal was used in the groin\",\n          \"PROCEDURE Gastroscopy PREOPERATIVE DIAGNOSES Dysphagia possible stricture POSTOPERATIVE DIAGNOSIS Gastroparesis MEDICATION MAC DESCRIPTION OF PROCEDURE The Olympus gastroscope was introduced into the hypopharynx and passed carefully through the esophagus stomach and duodenum The hypopharynx was normal The esophagus had a normal upper esophageal sphincter normal contour throughout and a normal gastroesophageal junction viewed at  cm from the incisors There was no evidence of stricturing or extrinsic narrowing from her previous hiatal hernia repair There was no sign of reflux esophagitis On entering the gastric lumen a large bezoar of undigested food was seen occupying much of the gastric fundus and body It had  to  mm diameter This was broken up using a scope into smaller pieces There was no retained gastric liquid The antrum appeared normal and the pylorus was patent The scope passed easily into the duodenum which was normal through the second portion On withdrawal of the scope additional views of the cardia were obtained and there was no evidence of any tumor or narrowing The scope was withdrawn The patient tolerated the procedure well and was sent to the recovery room FINAL DIAGNOSES  Normal postoperative hernia repair  Retained gastric contents forming a partial bezoar suggestive of gastroparesis  Otherwise normal upper endoscopy to the descending duodenum RECOMMENDATIONS  Continue proton pump inhibitors  Use Reglan  mg three to four times a day\"\n        ],\n        \"semantic_type\": \"\",\n        \"description\": \"\"\n      }\n    },\n    {\n      \"column\": \"medical_specialty\",\n      \"properties\": {\n        \"dtype\": \"category\",\n        \"num_unique_values\": 40,\n        \"samples\": [\n          \" Ophthalmology\",\n          \" Pediatrics - Neonatal\",\n          \" Physical Medicine - Rehab\"\n        ],\n        \"semantic_type\": \"\",\n        \"description\": \"\"\n      }\n    },\n    {\n      \"column\": \"tokens\",\n      \"properties\": {\n        \"dtype\": \"object\",\n        \"semantic_type\": \"\",\n        \"description\": \"\"\n      }\n    },\n    {\n      \"column\": \"tokenised\",\n      \"properties\": {\n        \"dtype\": \"object\",\n        \"semantic_type\": \"\",\n        \"description\": \"\"\n      }\n    },\n    {\n      \"column\": \"stemmed_without_stop\",\n      \"properties\": {\n        \"dtype\": \"category\",\n        \"num_unique_values\": 2355,\n        \"samples\": [\n          \"REASON FOR VISIT This new patient evaluation Mr A There malignant meningioma He referred Dr X HISTORY OF PRESENT ILLNESS He said two surgeries followed radiation He problem seizures hemiparesis hospital developed C diff nursing home currently He unable stand moment He unable care I reviewed information sent nursing home includes medical history MEDICATIONS Keppra twice day Decadron mg four times day His medicines include oxycodone aspirin day Prilosec Dilantin day Flagyl FINDINGS On examination lying stretcher He oxygen periods spontaneous hyperventilation He unable lift right arm right leg He expressive dysphasia confusion I reviewed imaging studies summer beginning end well current MRI last week This shows progression disease recurrence along surface brain significant brain edema This malignant meningioma diagnosis ASSESSMENT PLAN In summary Mr A significant disability independent currently I believe likelihood benefit surgery small good chance would able recover surgery I think surgery help quality life need control tumor would dependent another therapy impacting tumor Given good therapies chemotherapy would option moment certainly condition chemotherapy would given I believe surgery would best interest I discussed although clear much understood well family\",\n          \"NAME OF PROCEDURE Left heart catheterization ventriculography selective coronary angiography INDICATIONS Acute coronary syndrome TECHNIQUE OF PROCEDURE Standard Judkins right groin Catheters used French pigtail French JL French JR ANTICOAGULATION The patient heparin time COMPLICATIONS None I reviewed patient pros cons alternatives risks catheterization sedation including myocardial infarction stroke death damage nerve artery vein leg perforation cardiac chamber dissection artery requiring countershock infection bleeding ATN allergy need cardiac surgery All questions answered patient desired proceed HEMODYNAMIC DATA Aortic pressure physiologic range No significant gradient across aortic valve ANGIOGRAPHIC DATA Ventriculogram The left ventricle normal size shape normal wall motion normal ejection fraction Right coronary artery Dominant There insignificant disease system Left coronary Left main left anterior descending circumflex systems showed significant disease CONCLUSIONS Normal left ventricular systolic function Insignificant coronary disease PLAN Based upon study medical therapy warranted Six French Angio Seal used groin\",\n          \"PROCEDURE Gastroscopy PREOPERATIVE DIAGNOSES Dysphagia possible stricture POSTOPERATIVE DIAGNOSIS Gastroparesis MEDICATION MAC DESCRIPTION OF PROCEDURE The Olympus gastroscope introduced hypopharynx passed carefully esophagus stomach duodenum The hypopharynx normal The esophagus normal upper esophageal sphincter normal contour throughout normal gastroesophageal junction viewed cm incisors There evidence stricturing extrinsic narrowing previous hiatal hernia repair There sign reflux esophagitis On entering gastric lumen large bezoar undigested food seen occupying much gastric fundus body It mm diameter This broken using scope smaller pieces There retained gastric liquid The antrum appeared normal pylorus patent The scope passed easily duodenum normal second portion On withdrawal scope additional views cardia obtained evidence tumor narrowing The scope withdrawn The patient tolerated procedure well sent recovery room FINAL DIAGNOSES Normal postoperative hernia repair Retained gastric contents forming partial bezoar suggestive gastroparesis Otherwise normal upper endoscopy descending duodenum RECOMMENDATIONS Continue proton pump inhibitors Use Reglan mg three four times day\"\n        ],\n        \"semantic_type\": \"\",\n        \"description\": \"\"\n      }\n    }\n  ]\n}"
            }
          },
          "metadata": {},
          "execution_count": 97
        }
      ]
    },
    {
      "cell_type": "markdown",
      "source": [
        "### Reduction of corpus"
      ],
      "metadata": {
        "id": "pnI74Jg0t-6A"
      }
    },
    {
      "cell_type": "code",
      "source": [
        "total_word_count = data['transcription'].str.split().str.len().sum()\n",
        "print(f'The word count of all transcription is: {int(total_word_count)}')"
      ],
      "metadata": {
        "colab": {
          "base_uri": "https://localhost:8080/"
        },
        "id": "97TAMz1puLX_",
        "outputId": "097547bb-6a59-4d9b-ccb6-9a244adc74b9"
      },
      "execution_count": null,
      "outputs": [
        {
          "output_type": "stream",
          "name": "stdout",
          "text": [
            "The word count of all transcription is: 2321187\n"
          ]
        }
      ]
    },
    {
      "cell_type": "code",
      "source": [
        "def calculate_normalized_word_reduction(data_frame, column_name, original_total_word_count):\n",
        "    \"\"\"\n",
        "    Calculates and prints the total word count of a specified column after normalization\n",
        "    and the percentage reduction compared to an original total word count.\n",
        "\n",
        "    Parameters:\n",
        "    - data_frame (pd.DataFrame): The DataFrame containing the normalized text data.\n",
        "    - column_name (str): The name of the column containing the normalized text data.\n",
        "    - original_total_word_count (int): The total word count before normalization.\n",
        "\n",
        "    Returns:\n",
        "    - None\n",
        "    \"\"\"\n",
        "    # Calculate total word count after normalization\n",
        "    total_word_count_normalized = data_frame[column_name].str.split().str.len().sum()\n",
        "\n",
        "    # Calculate the percentage reduction\n",
        "    reduction_percentage = (original_total_word_count - total_word_count_normalized) / original_total_word_count * 100\n",
        "\n",
        "    # Print results\n",
        "    print(f'The word count of transcription after normalized is: {int(total_word_count_normalized)}')\n",
        "    print(f'{round(reduction_percentage, 2)}% less word')"
      ],
      "metadata": {
        "id": "4pPhpb4JtmRD"
      },
      "execution_count": null,
      "outputs": []
    },
    {
      "cell_type": "code",
      "source": [
        "# Example usage:\n",
        "# Assuming 'df' is your DataFrame, 'stemmed_without_stop' is the column after normalization,\n",
        "#and 'total_word_count' is the original total word count:\n",
        "calculate_normalized_word_reduction(data, 'stemmed_without_stop', total_word_count)\n"
      ],
      "metadata": {
        "colab": {
          "base_uri": "https://localhost:8080/"
        },
        "id": "_QioMqiSts5U",
        "outputId": "ab6f7045-e9a2-4d4d-e6d0-f06491c9ae53"
      },
      "execution_count": null,
      "outputs": [
        {
          "output_type": "stream",
          "name": "stdout",
          "text": [
            "The word count of transcription after normalized is: 1491651\n",
            "35.74% less word\n"
          ]
        }
      ]
    },
    {
      "cell_type": "markdown",
      "source": [
        "### HuggingFace EDA\n",
        "\n",
        "* 42757 rows and four columns"
      ],
      "metadata": {
        "id": "U-I5AxJ4gMrl"
      }
    },
    {
      "cell_type": "code",
      "source": [
        "# Path to your JSONL file\n",
        "file_path = '/content/drive/MyDrive/00 UvA MASTER DATA SCIENCE /00. Thesis /Thesis Data/PII43k_original.jsonl'\n",
        "\n",
        "# Reading JSONL file directly into a DataFrame\n",
        "df = pd.read_json(file_path, lines=True)\n",
        "\n",
        "# Displaying the DataFrame\n",
        "df.head()\n",
        "print(df.shape)"
      ],
      "metadata": {
        "colab": {
          "base_uri": "https://localhost:8080/"
        },
        "id": "Fkr_npzAgMEn",
        "outputId": "cc4659f9-64e6-42a3-f2f4-e1e5467cd689"
      },
      "execution_count": null,
      "outputs": [
        {
          "output_type": "stream",
          "name": "stdout",
          "text": [
            "(42757, 4)\n"
          ]
        }
      ]
    },
    {
      "cell_type": "code",
      "source": [
        "df['unmasked_text']"
      ],
      "metadata": {
        "colab": {
          "base_uri": "https://localhost:8080/"
        },
        "id": "NY7f4LzOgQpi",
        "outputId": "475e05aa-3a1e-4041-9bc9-1ea9433adc22"
      },
      "execution_count": null,
      "outputs": [
        {
          "output_type": "execute_result",
          "data": {
            "text/plain": [
              "0        In our video conference, discuss the role of e...\n",
              "1        Could you draft a letter for Dietrich, Schulis...\n",
              "2        Discuss the options for Jeffery Pfeffer who wa...\n",
              "3        13. Write a press release announcing Gayle Wat...\n",
              "4        9. Develop an inventory management plan for Ev...\n",
              "                               ...                        \n",
              "42752    Please write an article on the effectiveness o...\n",
              "42753    Write a report on the most common online threa...\n",
              "42754    Write a blog post for Stanton LLC about the ro...\n",
              "42755    14. Calculate the return on investment for Con...\n",
              "42756    Please write an email to Roberta Gutmann V at ...\n",
              "Name: unmasked_text, Length: 42757, dtype: object"
            ]
          },
          "metadata": {},
          "execution_count": 49
        }
      ]
    },
    {
      "cell_type": "markdown",
      "source": [
        "## Missing Values"
      ],
      "metadata": {
        "id": "-DMbTZNhj92X"
      }
    },
    {
      "cell_type": "code",
      "source": [
        "def count_nan_values(data_frame, column_names):\n",
        "    \"\"\"\n",
        "    Counts the number of NaN values in the specified column(s) of the given DataFrame.\n",
        "\n",
        "    Parameters:\n",
        "    - data_frame (pd.DataFrame): The DataFrame to analyze.\n",
        "    - column_names (str or list): The name of the column or a list of column names to check for NaN values.\n",
        "\n",
        "    Returns:\n",
        "    - A dictionary with column names as keys and the count of NaN values as values. If a single column name is provided,\n",
        "      a direct count is returned.\n",
        "    \"\"\"\n",
        "    if isinstance(column_names, str):\n",
        "        # If a single column name is provided, return the count directly\n",
        "        return data_frame[column_names].isna().sum()\n",
        "    elif isinstance(column_names, list):\n",
        "        # If a list of column names is provided, return a dictionary with counts\n",
        "        return {column: data_frame[column].isna().sum() for column in column_names}\n",
        "    else:\n",
        "        raise ValueError(\"The column_names parameter should be either a string or a list of strings.\")\n"
      ],
      "metadata": {
        "id": "LdwY4TDog_o-"
      },
      "execution_count": null,
      "outputs": []
    },
    {
      "cell_type": "code",
      "source": [
        "# Example usage for a single column:\n",
        "count = count_nan_values(df, 'unmasked_text')\n",
        "print(f\"Number of NaN values in 'column_name': {count}\")\n",
        "\n",
        "# Example usage for multiple columns:\n",
        "# counts = count_nan_values(data, ['column1', 'column2'])\n",
        "# for column, count in counts.items():\n",
        "#     print(f\"Number of NaN values in '{column"
      ],
      "metadata": {
        "colab": {
          "base_uri": "https://localhost:8080/"
        },
        "id": "l_tvgRbFkA2s",
        "outputId": "d9dac013-f97c-4dca-fcbe-0c9517fe30a4"
      },
      "execution_count": null,
      "outputs": [
        {
          "output_type": "stream",
          "name": "stdout",
          "text": [
            "Number of NaN values in 'column_name': 0\n"
          ]
        }
      ]
    },
    {
      "cell_type": "markdown",
      "source": [],
      "metadata": {
        "id": "8KuuiI7ChuHD"
      }
    },
    {
      "cell_type": "code",
      "source": [
        "# Filter out rows where 'transcription' is NaN\n",
        "df = df[df['unmasked_text'].notna()]\n",
        "\n",
        "# Convert 'transcription' column to a list of strings for processing\n",
        "hf_transcriptions = df['unmasked_text'].tolist()\n",
        "\n",
        "# Get sentence and unique word counts\n",
        "sent_count, word_count = get_sentence_word_count(hf_transcriptions)\n",
        "\n",
        "print(\"Number of sentences in transcriptions column: \" + str(sent_count))\n",
        "print(\"Number of unique words in transcriptions column: \" + str(word_count))"
      ],
      "metadata": {
        "colab": {
          "base_uri": "https://localhost:8080/"
        },
        "id": "gg3ePm_Fg-KQ",
        "outputId": "f0b8369f-6550-41d3-8f0d-0686c4591cf4"
      },
      "execution_count": null,
      "outputs": [
        {
          "output_type": "stream",
          "name": "stdout",
          "text": [
            "Number of sentences in transcriptions column: 54093\n",
            "Number of unique words in transcriptions column: 31077\n"
          ]
        }
      ]
    },
    {
      "cell_type": "code",
      "source": [
        "# Assuming 'data' is your DataFrame and it has a 'transcription' column\n",
        "df = df[df['unmasked_text'].notna()]\n",
        "\n",
        "# Apply the analysis to each transcription and create a new DataFrame with the results\n",
        "metrics = df['unmasked_text'].apply(analyze_transcription_metrics)\n",
        "metrics_df = pd.DataFrame(metrics.tolist())\n",
        "\n",
        "# Calculate mean, min, and max for each metric\n",
        "metrics_summary = pd.DataFrame({\n",
        "    \"Mean\": metrics_df.mean(),\n",
        "    \"Min\": metrics_df.min(),\n",
        "    \"Max\": metrics_df.max()\n",
        "})\n",
        "\n",
        "print(metrics_summary)"
      ],
      "metadata": {
        "colab": {
          "base_uri": "https://localhost:8080/"
        },
        "id": "OzagBKbzhUCj",
        "outputId": "47c1981a-a86d-4b18-810d-bd9fcda302ee"
      },
      "execution_count": null,
      "outputs": [
        {
          "output_type": "stream",
          "name": "stdout",
          "text": [
            "                                         Mean        Min         Max\n",
            "Word count                          21.444723   9.000000   61.000000\n",
            "Mean word length                     4.892214   2.964286    9.230769\n",
            "Mean sentence length                16.491534   3.500000   41.000000\n",
            "Length of sample review            122.360947  47.000000  319.000000\n",
            "Number of words in review           21.444723   9.000000   61.000000\n",
            "Avg length of words                  4.892214   2.964286    9.230769\n",
            "Avg length of sentences in review   16.491534   3.500000   41.000000\n"
          ]
        }
      ]
    },
    {
      "cell_type": "code",
      "source": [
        "import pandas as pd\n",
        "from nltk.tokenize import RegexpTokenizer\n",
        "\n",
        "def process_transcriptions(data_frame, column_name):\n",
        "    \"\"\"\n",
        "    Processes the transcriptions in the specified column of the given DataFrame by tokenizing the sentences\n",
        "    and calculating various statistics about the dataset.\n",
        "\n",
        "    Parameters:\n",
        "    - data_frame (pd.DataFrame): A DataFrame containing text data to process.\n",
        "    - column_name (str): The name of the column in the DataFrame that contains the text data.\n",
        "\n",
        "    Returns:\n",
        "    - None: This function prints out the total number of words, vocabulary size,\n",
        "            and the maximum sentence length.\n",
        "    \"\"\"\n",
        "    # Ensure all entries in the specified column are strings\n",
        "    data_frame[column_name] = data_frame[column_name].astype(str)\n",
        "\n",
        "    # Create a list of tokens for each sentence\n",
        "    tokenizer = RegexpTokenizer(r'\\w+')\n",
        "    data_frame[\"tokens\"] = data_frame[column_name].apply(tokenizer.tokenize)\n",
        "\n",
        "    # Extract all words and calculate sentence lengths\n",
        "    all_words = [word for tokens in data_frame[\"tokens\"] for word in tokens]\n",
        "    sentence_lengths = [len(tokens) for tokens in data_frame[\"tokens\"]]\n",
        "    VOCAB = sorted(list(set(all_words)))\n",
        "\n",
        "    # Print out statistics\n",
        "    print(f\"{len(all_words)} words total, with a vocabulary size of {len(VOCAB)}.\")\n",
        "    print(f\"Max sentence length is {max(sentence_lengths)}.\")\n"
      ],
      "metadata": {
        "id": "nOvQgw_1iLrN"
      },
      "execution_count": null,
      "outputs": []
    },
    {
      "cell_type": "code",
      "source": [
        "# Example usage\n",
        "# Assuming `data` is your DataFrame and 'transcription' is the column you want to process:\n",
        "process_transcriptions(df, 'unmasked_text')"
      ],
      "metadata": {
        "colab": {
          "base_uri": "https://localhost:8080/"
        },
        "id": "t57cVe1OjhNJ",
        "outputId": "07a9b6c3-8e79-4e28-abf2-ef05cc0eb0c1"
      },
      "execution_count": null,
      "outputs": [
        {
          "output_type": "stream",
          "name": "stdout",
          "text": [
            "853222 words total, with a vocabulary size of 29277.\n",
            "Max sentence length is 62.\n"
          ]
        }
      ]
    },
    {
      "cell_type": "code",
      "source": [
        "fig = plt.figure(figsize=(10, 10))\n",
        "plt.title('Sentence length histogram')\n",
        "plt.xlabel('Sentence length')\n",
        "plt.ylabel('Number of sentences')\n",
        "plt.hist(sentence_lengths, edgecolor = 'black', bins = 20)\n",
        "plt.show()"
      ],
      "metadata": {
        "colab": {
          "base_uri": "https://localhost:8080/",
          "height": 872
        },
        "id": "WS0tVQdWjlFf",
        "outputId": "860631b7-86fb-451d-f823-5012218ffb3e"
      },
      "execution_count": null,
      "outputs": [
        {
          "output_type": "display_data",
          "data": {
            "text/plain": [
              "<Figure size 1000x1000 with 1 Axes>"
            ],
            "image/png": "[encoded data removed]"
          },
          "metadata": {}
        }
      ]
    },
    {
      "cell_type": "code",
      "source": [
        "print(f\"Median sentence length {np.median(sentence_lengths)}\")\n",
        "print(f\"Mean sentence length {round(np.mean(sentence_lengths), 2)}\")"
      ],
      "metadata": {
        "colab": {
          "base_uri": "https://localhost:8080/"
        },
        "id": "Q8XXqPc8lOkh",
        "outputId": "72366ac6-ec22-4009-afb5-85026f4d8458"
      },
      "execution_count": null,
      "outputs": [
        {
          "output_type": "stream",
          "name": "stdout",
          "text": [
            "Median sentence length 421.5\n",
            "Mean sentence length 487.5\n"
          ]
        }
      ]
    },
    {
      "cell_type": "code",
      "source": [],
      "metadata": {
        "id": "M_GInAZrlbE8"
      },
      "execution_count": null,
      "outputs": []
    }
  ]
}